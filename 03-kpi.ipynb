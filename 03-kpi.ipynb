{
 "cells": [
  {
   "cell_type": "markdown",
   "metadata": {},
   "source": [
    "# KPIs"
   ]
  },
  {
   "cell_type": "markdown",
   "metadata": {},
   "source": [
    "En este apartado realizaremos la creacion de los dataframes necesarios para el calculo de cada KPIs a apartir del dataframe orginal que es el df_siniestros"
   ]
  },
  {
   "cell_type": "code",
   "execution_count": 26,
   "metadata": {},
   "outputs": [],
   "source": [
    "# Importar librerías\n",
    "import pandas as pd\n",
    "import numpy as np"
   ]
  },
  {
   "cell_type": "code",
   "execution_count": 27,
   "metadata": {},
   "outputs": [],
   "source": [
    "# Se lee el dataset 01-homicidios_total.csv\n",
    "homicidios = pd.read_csv(\"data/01-homicidios-total.csv\")\n",
    "poblacion = pd.read_csv(\"data/02-poblacion-total.csv\")"
   ]
  },
  {
   "cell_type": "markdown",
   "metadata": {},
   "source": [
    "# KPI 1\n",
    "### Reducir en un 10% la tasa de homicidios en siniestros viales de los últimos seis meses, en CABA, en comparación con la tasa de homicidios en siniestros viales del semestre anterior."
   ]
  },
  {
   "cell_type": "code",
   "execution_count": 28,
   "metadata": {},
   "outputs": [],
   "source": [
    "# Se crea una nueva variable \"semestre\" que divide el año en dos\n",
    "homicidios[\"semestre\"] = homicidios[\"mes\"].apply(lambda x: 1 if x <= 6 else 2)"
   ]
  },
  {
   "cell_type": "markdown",
   "metadata": {},
   "source": [
    "### Teniendo la columna `semestres` se realiza la agrupación por Año y Semestre para poder sumar la cantidad de homicidios que corresponde a cada uno"
   ]
  },
  {
   "cell_type": "code",
   "execution_count": 31,
   "metadata": {},
   "outputs": [],
   "source": [
    "agrupacion_semestre = (\n",
    "    homicidios.groupby([\"anio\", \"semestre\"]).size().reset_index(name=\"homicidios\")\n",
    ")"
   ]
  },
  {
   "cell_type": "code",
   "execution_count": 32,
   "metadata": {},
   "outputs": [
    {
     "data": {
      "text/html": [
       "<div>\n",
       "<style scoped>\n",
       "    .dataframe tbody tr th:only-of-type {\n",
       "        vertical-align: middle;\n",
       "    }\n",
       "\n",
       "    .dataframe tbody tr th {\n",
       "        vertical-align: top;\n",
       "    }\n",
       "\n",
       "    .dataframe thead th {\n",
       "        text-align: right;\n",
       "    }\n",
       "</style>\n",
       "<table border=\"1\" class=\"dataframe\">\n",
       "  <thead>\n",
       "    <tr style=\"text-align: right;\">\n",
       "      <th></th>\n",
       "      <th>anio</th>\n",
       "      <th>semestre</th>\n",
       "      <th>homicidios</th>\n",
       "    </tr>\n",
       "  </thead>\n",
       "  <tbody>\n",
       "    <tr>\n",
       "      <th>0</th>\n",
       "      <td>2016</td>\n",
       "      <td>1</td>\n",
       "      <td>65</td>\n",
       "    </tr>\n",
       "    <tr>\n",
       "      <th>1</th>\n",
       "      <td>2016</td>\n",
       "      <td>2</td>\n",
       "      <td>81</td>\n",
       "    </tr>\n",
       "    <tr>\n",
       "      <th>2</th>\n",
       "      <td>2017</td>\n",
       "      <td>1</td>\n",
       "      <td>69</td>\n",
       "    </tr>\n",
       "    <tr>\n",
       "      <th>3</th>\n",
       "      <td>2017</td>\n",
       "      <td>2</td>\n",
       "      <td>71</td>\n",
       "    </tr>\n",
       "    <tr>\n",
       "      <th>4</th>\n",
       "      <td>2018</td>\n",
       "      <td>1</td>\n",
       "      <td>70</td>\n",
       "    </tr>\n",
       "  </tbody>\n",
       "</table>\n",
       "</div>"
      ],
      "text/plain": [
       "   anio  semestre  homicidios\n",
       "0  2016         1          65\n",
       "1  2016         2          81\n",
       "2  2017         1          69\n",
       "3  2017         2          71\n",
       "4  2018         1          70"
      ]
     },
     "execution_count": 32,
     "metadata": {},
     "output_type": "execute_result"
    }
   ],
   "source": [
    "# Observamos los primeros registros\n",
    "agrupacion_semestre.head()"
   ]
  },
  {
   "cell_type": "markdown",
   "metadata": {},
   "source": [
    "### Se calcula una nueva variable Homicidios Semestre Anterior donde se calcula para cada semestre anterior la cantidad de homicidios"
   ]
  },
  {
   "cell_type": "code",
   "execution_count": 33,
   "metadata": {},
   "outputs": [],
   "source": [
    "agrupacion_semestre[\"semestre_pasado\"] = agrupacion_semestre[\"homicidios\"].shift(\n",
    "    periods=1, fill_value=0\n",
    ")"
   ]
  },
  {
   "cell_type": "code",
   "execution_count": 34,
   "metadata": {},
   "outputs": [
    {
     "data": {
      "text/html": [
       "<div>\n",
       "<style scoped>\n",
       "    .dataframe tbody tr th:only-of-type {\n",
       "        vertical-align: middle;\n",
       "    }\n",
       "\n",
       "    .dataframe tbody tr th {\n",
       "        vertical-align: top;\n",
       "    }\n",
       "\n",
       "    .dataframe thead th {\n",
       "        text-align: right;\n",
       "    }\n",
       "</style>\n",
       "<table border=\"1\" class=\"dataframe\">\n",
       "  <thead>\n",
       "    <tr style=\"text-align: right;\">\n",
       "      <th></th>\n",
       "      <th>anio</th>\n",
       "      <th>semestre</th>\n",
       "      <th>homicidios</th>\n",
       "      <th>semestre_pasado</th>\n",
       "    </tr>\n",
       "  </thead>\n",
       "  <tbody>\n",
       "    <tr>\n",
       "      <th>0</th>\n",
       "      <td>2016</td>\n",
       "      <td>1</td>\n",
       "      <td>65</td>\n",
       "      <td>0</td>\n",
       "    </tr>\n",
       "    <tr>\n",
       "      <th>1</th>\n",
       "      <td>2016</td>\n",
       "      <td>2</td>\n",
       "      <td>81</td>\n",
       "      <td>65</td>\n",
       "    </tr>\n",
       "    <tr>\n",
       "      <th>2</th>\n",
       "      <td>2017</td>\n",
       "      <td>1</td>\n",
       "      <td>69</td>\n",
       "      <td>81</td>\n",
       "    </tr>\n",
       "    <tr>\n",
       "      <th>3</th>\n",
       "      <td>2017</td>\n",
       "      <td>2</td>\n",
       "      <td>71</td>\n",
       "      <td>69</td>\n",
       "    </tr>\n",
       "    <tr>\n",
       "      <th>4</th>\n",
       "      <td>2018</td>\n",
       "      <td>1</td>\n",
       "      <td>70</td>\n",
       "      <td>71</td>\n",
       "    </tr>\n",
       "  </tbody>\n",
       "</table>\n",
       "</div>"
      ],
      "text/plain": [
       "   anio  semestre  homicidios  semestre_pasado\n",
       "0  2016         1          65                0\n",
       "1  2016         2          81               65\n",
       "2  2017         1          69               81\n",
       "3  2017         2          71               69\n",
       "4  2018         1          70               71"
      ]
     },
     "execution_count": 34,
     "metadata": {},
     "output_type": "execute_result"
    }
   ],
   "source": [
    "# Observamos los primeros registros\n",
    "agrupacion_semestre.head()"
   ]
  },
  {
   "cell_type": "markdown",
   "metadata": {},
   "source": [
    "### Se calcula la tasa de homicidios para cada semestre cada 100000 habitantes"
   ]
  },
  {
   "cell_type": "code",
   "execution_count": 35,
   "metadata": {},
   "outputs": [
    {
     "data": {
      "text/plain": [
       "3078836.0"
      ]
     },
     "execution_count": 35,
     "metadata": {},
     "output_type": "execute_result"
    }
   ],
   "source": [
    "# Seleccionas la población total del año 2021\n",
    "pob_total_2021 = poblacion[poblacion[\"Año\"] == 2021][\"Total\"].iloc[0]\n",
    "pob_total_2021"
   ]
  },
  {
   "cell_type": "code",
   "execution_count": 36,
   "metadata": {},
   "outputs": [],
   "source": [
    "# Se calcula la tasa de homicidios por semestre\n",
    "agrupacion_semestre[\"tasa_homicidios\"] = (\n",
    "    agrupacion_semestre[\"homicidios\"] / pob_total_2021\n",
    ") * 100000\n",
    "\n",
    "# Se calcula la tasa de homicidios del semestre inmediatamente anterior\n",
    "agrupacion_semestre[\"tasa_semestre_pasado\"] = (\n",
    "    agrupacion_semestre[\"semestre_pasado\"] / pob_total_2021\n",
    ") * 100000"
   ]
  },
  {
   "cell_type": "code",
   "execution_count": 37,
   "metadata": {},
   "outputs": [
    {
     "data": {
      "text/html": [
       "<div>\n",
       "<style scoped>\n",
       "    .dataframe tbody tr th:only-of-type {\n",
       "        vertical-align: middle;\n",
       "    }\n",
       "\n",
       "    .dataframe tbody tr th {\n",
       "        vertical-align: top;\n",
       "    }\n",
       "\n",
       "    .dataframe thead th {\n",
       "        text-align: right;\n",
       "    }\n",
       "</style>\n",
       "<table border=\"1\" class=\"dataframe\">\n",
       "  <thead>\n",
       "    <tr style=\"text-align: right;\">\n",
       "      <th></th>\n",
       "      <th>anio</th>\n",
       "      <th>semestre</th>\n",
       "      <th>homicidios</th>\n",
       "      <th>semestre_pasado</th>\n",
       "      <th>tasa_homicidios</th>\n",
       "      <th>tasa_semestre_pasado</th>\n",
       "    </tr>\n",
       "  </thead>\n",
       "  <tbody>\n",
       "    <tr>\n",
       "      <th>0</th>\n",
       "      <td>2016</td>\n",
       "      <td>1</td>\n",
       "      <td>65</td>\n",
       "      <td>0</td>\n",
       "      <td>2.111187</td>\n",
       "      <td>0.000000</td>\n",
       "    </tr>\n",
       "    <tr>\n",
       "      <th>1</th>\n",
       "      <td>2016</td>\n",
       "      <td>2</td>\n",
       "      <td>81</td>\n",
       "      <td>65</td>\n",
       "      <td>2.630864</td>\n",
       "      <td>2.111187</td>\n",
       "    </tr>\n",
       "    <tr>\n",
       "      <th>2</th>\n",
       "      <td>2017</td>\n",
       "      <td>1</td>\n",
       "      <td>69</td>\n",
       "      <td>81</td>\n",
       "      <td>2.241107</td>\n",
       "      <td>2.630864</td>\n",
       "    </tr>\n",
       "    <tr>\n",
       "      <th>3</th>\n",
       "      <td>2017</td>\n",
       "      <td>2</td>\n",
       "      <td>71</td>\n",
       "      <td>69</td>\n",
       "      <td>2.306066</td>\n",
       "      <td>2.241107</td>\n",
       "    </tr>\n",
       "    <tr>\n",
       "      <th>4</th>\n",
       "      <td>2018</td>\n",
       "      <td>1</td>\n",
       "      <td>70</td>\n",
       "      <td>71</td>\n",
       "      <td>2.273587</td>\n",
       "      <td>2.306066</td>\n",
       "    </tr>\n",
       "  </tbody>\n",
       "</table>\n",
       "</div>"
      ],
      "text/plain": [
       "   anio  semestre  homicidios  semestre_pasado  tasa_homicidios  \\\n",
       "0  2016         1          65                0         2.111187   \n",
       "1  2016         2          81               65         2.630864   \n",
       "2  2017         1          69               81         2.241107   \n",
       "3  2017         2          71               69         2.306066   \n",
       "4  2018         1          70               71         2.273587   \n",
       "\n",
       "   tasa_semestre_pasado  \n",
       "0              0.000000  \n",
       "1              2.111187  \n",
       "2              2.630864  \n",
       "3              2.241107  \n",
       "4              2.306066  "
      ]
     },
     "execution_count": 37,
     "metadata": {},
     "output_type": "execute_result"
    }
   ],
   "source": [
    "# Vemos las tasas de homicidios\n",
    "agrupacion_semestre.head()"
   ]
  },
  {
   "cell_type": "markdown",
   "metadata": {},
   "source": [
    "### Se crea una columna con la diferencia porcentual semestre a semestre"
   ]
  },
  {
   "cell_type": "code",
   "execution_count": 38,
   "metadata": {},
   "outputs": [],
   "source": [
    "agrupacion_semestre[\"dif_porcentual\"] = (\n",
    "    (\n",
    "        agrupacion_semestre[\"tasa_homicidios\"]\n",
    "        - agrupacion_semestre[\"tasa_semestre_pasado\"]\n",
    "    )\n",
    "    / agrupacion_semestre[\"tasa_semestre_pasado\"]\n",
    "    * 100\n",
    ")"
   ]
  },
  {
   "cell_type": "code",
   "execution_count": 39,
   "metadata": {},
   "outputs": [
    {
     "data": {
      "text/html": [
       "<div>\n",
       "<style scoped>\n",
       "    .dataframe tbody tr th:only-of-type {\n",
       "        vertical-align: middle;\n",
       "    }\n",
       "\n",
       "    .dataframe tbody tr th {\n",
       "        vertical-align: top;\n",
       "    }\n",
       "\n",
       "    .dataframe thead th {\n",
       "        text-align: right;\n",
       "    }\n",
       "</style>\n",
       "<table border=\"1\" class=\"dataframe\">\n",
       "  <thead>\n",
       "    <tr style=\"text-align: right;\">\n",
       "      <th></th>\n",
       "      <th>anio</th>\n",
       "      <th>semestre</th>\n",
       "      <th>homicidios</th>\n",
       "      <th>semestre_pasado</th>\n",
       "      <th>tasa_homicidios</th>\n",
       "      <th>tasa_semestre_pasado</th>\n",
       "      <th>dif_porcentual</th>\n",
       "    </tr>\n",
       "  </thead>\n",
       "  <tbody>\n",
       "    <tr>\n",
       "      <th>0</th>\n",
       "      <td>2016</td>\n",
       "      <td>1</td>\n",
       "      <td>65</td>\n",
       "      <td>0</td>\n",
       "      <td>2.111187</td>\n",
       "      <td>0.000000</td>\n",
       "      <td>inf</td>\n",
       "    </tr>\n",
       "    <tr>\n",
       "      <th>1</th>\n",
       "      <td>2016</td>\n",
       "      <td>2</td>\n",
       "      <td>81</td>\n",
       "      <td>65</td>\n",
       "      <td>2.630864</td>\n",
       "      <td>2.111187</td>\n",
       "      <td>24.615385</td>\n",
       "    </tr>\n",
       "    <tr>\n",
       "      <th>2</th>\n",
       "      <td>2017</td>\n",
       "      <td>1</td>\n",
       "      <td>69</td>\n",
       "      <td>81</td>\n",
       "      <td>2.241107</td>\n",
       "      <td>2.630864</td>\n",
       "      <td>-14.814815</td>\n",
       "    </tr>\n",
       "    <tr>\n",
       "      <th>3</th>\n",
       "      <td>2017</td>\n",
       "      <td>2</td>\n",
       "      <td>71</td>\n",
       "      <td>69</td>\n",
       "      <td>2.306066</td>\n",
       "      <td>2.241107</td>\n",
       "      <td>2.898551</td>\n",
       "    </tr>\n",
       "    <tr>\n",
       "      <th>4</th>\n",
       "      <td>2018</td>\n",
       "      <td>1</td>\n",
       "      <td>70</td>\n",
       "      <td>71</td>\n",
       "      <td>2.273587</td>\n",
       "      <td>2.306066</td>\n",
       "      <td>-1.408451</td>\n",
       "    </tr>\n",
       "  </tbody>\n",
       "</table>\n",
       "</div>"
      ],
      "text/plain": [
       "   anio  semestre  homicidios  semestre_pasado  tasa_homicidios  \\\n",
       "0  2016         1          65                0         2.111187   \n",
       "1  2016         2          81               65         2.630864   \n",
       "2  2017         1          69               81         2.241107   \n",
       "3  2017         2          71               69         2.306066   \n",
       "4  2018         1          70               71         2.273587   \n",
       "\n",
       "   tasa_semestre_pasado  dif_porcentual  \n",
       "0              0.000000             inf  \n",
       "1              2.111187       24.615385  \n",
       "2              2.630864      -14.814815  \n",
       "3              2.241107        2.898551  \n",
       "4              2.306066       -1.408451  "
      ]
     },
     "execution_count": 39,
     "metadata": {},
     "output_type": "execute_result"
    }
   ],
   "source": [
    "agrupacion_semestre.head()"
   ]
  },
  {
   "cell_type": "markdown",
   "metadata": {},
   "source": [
    "### Se guarda el dataframe en un archivo CSV"
   ]
  },
  {
   "cell_type": "code",
   "execution_count": 40,
   "metadata": {},
   "outputs": [],
   "source": [
    "agrupacion_semestre_csv = \"data/01-kpi.csv\"\n",
    "agrupacion_semestre.to_csv(agrupacion_semestre_csv, index=False)"
   ]
  },
  {
   "cell_type": "markdown",
   "metadata": {},
   "source": [
    "# KPI 2\n",
    "### Reducir en un 7% la cantidad de accidentes mortales de motociclistas en el último año, en CABA, respecto al año anterior."
   ]
  },
  {
   "cell_type": "markdown",
   "metadata": {},
   "source": [
    "### Se filtra y selecciona registros donde la victima es motociclista"
   ]
  },
  {
   "cell_type": "code",
   "execution_count": 41,
   "metadata": {},
   "outputs": [],
   "source": [
    "victima_moto = homicidios[(homicidios[\"victima\"] == \"MOTO\")]"
   ]
  },
  {
   "cell_type": "markdown",
   "metadata": {},
   "source": [
    "### Se agrupa por año y se realiza el conteo de homicidios"
   ]
  },
  {
   "cell_type": "code",
   "execution_count": 42,
   "metadata": {},
   "outputs": [],
   "source": [
    "victima_moto = victima_moto.groupby([\"anio\"]).size().reset_index(name=\"homicidios\")"
   ]
  },
  {
   "cell_type": "markdown",
   "metadata": {},
   "source": [
    "### Se crea una nueva variable `anio_pasado` donde se obtiene la cantidad de homicidios ocurridos el año anterior "
   ]
  },
  {
   "cell_type": "code",
   "execution_count": 43,
   "metadata": {},
   "outputs": [],
   "source": [
    "victima_moto[\"anio_pasado\"] = victima_moto[\"homicidios\"].shift(periods=1, fill_value=0)"
   ]
  },
  {
   "cell_type": "markdown",
   "metadata": {},
   "source": [
    "### Se obtiene la tasa de homicidios cada 100000 habitantes teniendo en cuenta que la población de Cuidad Autónoma de Buenos Aires al censo 2021"
   ]
  },
  {
   "cell_type": "code",
   "execution_count": 44,
   "metadata": {},
   "outputs": [],
   "source": [
    "# Se obtiene la tasa de homicidios cada 100000 habitantes para el año actual\n",
    "victima_moto[\"tasa_homicidios\"] = (victima_moto[\"homicidios\"] / pob_total_2021) * 100000\n",
    "\n",
    "# Se obtiene la tasa de homicidios cada 100000 habitantes para el año anterior o pasado\n",
    "victima_moto[\"tasa_anio_pasado\"] = (\n",
    "    victima_moto[\"anio_pasado\"] / pob_total_2021\n",
    ") * 100000"
   ]
  },
  {
   "cell_type": "markdown",
   "metadata": {},
   "source": [
    "### Se obtiene la Variación Porcentual de los homicidios año a año"
   ]
  },
  {
   "cell_type": "code",
   "execution_count": 45,
   "metadata": {},
   "outputs": [
    {
     "data": {
      "text/html": [
       "<div>\n",
       "<style scoped>\n",
       "    .dataframe tbody tr th:only-of-type {\n",
       "        vertical-align: middle;\n",
       "    }\n",
       "\n",
       "    .dataframe tbody tr th {\n",
       "        vertical-align: top;\n",
       "    }\n",
       "\n",
       "    .dataframe thead th {\n",
       "        text-align: right;\n",
       "    }\n",
       "</style>\n",
       "<table border=\"1\" class=\"dataframe\">\n",
       "  <thead>\n",
       "    <tr style=\"text-align: right;\">\n",
       "      <th></th>\n",
       "      <th>anio</th>\n",
       "      <th>homicidios</th>\n",
       "      <th>anio_pasado</th>\n",
       "      <th>tasa_homicidios</th>\n",
       "      <th>tasa_anio_pasado</th>\n",
       "      <th>variacion</th>\n",
       "    </tr>\n",
       "  </thead>\n",
       "  <tbody>\n",
       "    <tr>\n",
       "      <th>0</th>\n",
       "      <td>2016</td>\n",
       "      <td>65</td>\n",
       "      <td>0</td>\n",
       "      <td>2.111187</td>\n",
       "      <td>0.000000</td>\n",
       "      <td>NaN</td>\n",
       "    </tr>\n",
       "    <tr>\n",
       "      <th>1</th>\n",
       "      <td>2017</td>\n",
       "      <td>56</td>\n",
       "      <td>65</td>\n",
       "      <td>1.818869</td>\n",
       "      <td>2.111187</td>\n",
       "      <td>-13.846154</td>\n",
       "    </tr>\n",
       "    <tr>\n",
       "      <th>2</th>\n",
       "      <td>2018</td>\n",
       "      <td>57</td>\n",
       "      <td>56</td>\n",
       "      <td>1.851349</td>\n",
       "      <td>1.818869</td>\n",
       "      <td>1.785714</td>\n",
       "    </tr>\n",
       "    <tr>\n",
       "      <th>3</th>\n",
       "      <td>2019</td>\n",
       "      <td>50</td>\n",
       "      <td>57</td>\n",
       "      <td>1.623990</td>\n",
       "      <td>1.851349</td>\n",
       "      <td>-12.280702</td>\n",
       "    </tr>\n",
       "    <tr>\n",
       "      <th>4</th>\n",
       "      <td>2020</td>\n",
       "      <td>28</td>\n",
       "      <td>50</td>\n",
       "      <td>0.909435</td>\n",
       "      <td>1.623990</td>\n",
       "      <td>-44.000000</td>\n",
       "    </tr>\n",
       "    <tr>\n",
       "      <th>5</th>\n",
       "      <td>2021</td>\n",
       "      <td>46</td>\n",
       "      <td>28</td>\n",
       "      <td>1.494071</td>\n",
       "      <td>0.909435</td>\n",
       "      <td>64.285714</td>\n",
       "    </tr>\n",
       "  </tbody>\n",
       "</table>\n",
       "</div>"
      ],
      "text/plain": [
       "   anio  homicidios  anio_pasado  tasa_homicidios  tasa_anio_pasado  variacion\n",
       "0  2016          65            0         2.111187          0.000000        NaN\n",
       "1  2017          56           65         1.818869          2.111187 -13.846154\n",
       "2  2018          57           56         1.851349          1.818869   1.785714\n",
       "3  2019          50           57         1.623990          1.851349 -12.280702\n",
       "4  2020          28           50         0.909435          1.623990 -44.000000\n",
       "5  2021          46           28         1.494071          0.909435  64.285714"
      ]
     },
     "execution_count": 45,
     "metadata": {},
     "output_type": "execute_result"
    }
   ],
   "source": [
    "victima_moto[\"variacion\"] = (\n",
    "    (victima_moto[\"tasa_homicidios\"] - victima_moto[\"tasa_anio_pasado\"])\n",
    "    / victima_moto[\"tasa_anio_pasado\"]\n",
    ") * 100\n",
    "\n",
    "\n",
    "victima_moto[\"variacion\"] = victima_moto[\"variacion\"].replace([np.inf, -np.inf], np.nan)\n",
    "\n",
    "victima_moto"
   ]
  },
  {
   "cell_type": "markdown",
   "metadata": {},
   "source": [
    "### Se guarda el dataframe en un archivo CSV"
   ]
  },
  {
   "cell_type": "code",
   "execution_count": 46,
   "metadata": {},
   "outputs": [],
   "source": [
    "victima_moto_csv = \"data/02-kpi.csv\"\n",
    "victima_moto.to_csv(victima_moto_csv, index=False)"
   ]
  }
 ],
 "metadata": {
  "kernelspec": {
   "display_name": "venv",
   "language": "python",
   "name": "python3"
  },
  "language_info": {
   "codemirror_mode": {
    "name": "ipython",
    "version": 3
   },
   "file_extension": ".py",
   "mimetype": "text/x-python",
   "name": "python",
   "nbconvert_exporter": "python",
   "pygments_lexer": "ipython3",
   "version": "3.12.1"
  }
 },
 "nbformat": 4,
 "nbformat_minor": 2
}
