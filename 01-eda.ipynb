{
 "cells": [
  {
   "cell_type": "markdown",
   "metadata": {},
   "source": [
    "# Análisis Exploratorio de Datos (EDA)\n",
    "\n",
    "Mediante la exploración detallada deL conjunto de datos proporcionado por el Observatorio de Movilidad y Seguridad Vial (OMSV), se busca identificar patrones, tendencias y factores clave que contribuyen a la ocurrencia de siniestros y a la gravedad de sus consecuencias. Este análisis preliminar no solo sienta las bases para el diseño del dashboard y la definición de KPIs, sino que también ofrece perspectivas críticas que respaldarán la formulación de políticas efectivas y medidas preventivas para reducir el número de víctimas fatales en siniestros viales en la ciudad."
   ]
  },
  {
   "cell_type": "markdown",
   "metadata": {},
   "source": [
    "### Se importan las librerías necesarias para el proceso de EDA"
   ]
  },
  {
   "cell_type": "code",
   "execution_count": 61,
   "metadata": {},
   "outputs": [
    {
     "name": "stdout",
     "output_type": "stream",
     "text": [
      "The autoreload extension is already loaded. To reload it, use:\n",
      "  %reload_ext autoreload\n"
     ]
    }
   ],
   "source": [
    "# Importar librerías\n",
    "import pandas as pd # Importa la librería pandas para el manejo de datos\n",
    "import numpy as np # Importa la librería numpy para el manejo de datos\n",
    "import calendar # Importa la librería calendar para trabajar con fechas\n",
    "import locale # Importa la librería locale para configurar la configuración regional\n",
    "import seaborn as sns # Importa la librería seaborn para la visualización de datos\n",
    "import matplotlib.pyplot as plt # Importa la librería matplotlib.pyplot para la generación de gráficos\n",
    "from datetime import datetime # Importa la clase datetime del módulo datetime para trabajar con fechas y horas\n",
    "import warnings # Importa la función filterwarnings del módulo warnings para ignorar las advertencias\n",
    "warnings.filterwarnings(\"ignore\")\n",
    "import utils # Script con funciones de ETL y EDA\n",
    "\n",
    "%load_ext autoreload\n",
    "%autoreload 2"
   ]
  },
  {
   "cell_type": "markdown",
   "metadata": {},
   "source": [
    "Extracción de los datos desde un archivo xlsx, que contiene varias hojas (sheets), las de interés para el proyecto son HECHOS y VICTIMAS respectivamente. Se hará uso de algunas funciones de ETL y EDA recopiladas en el Script `utils.py`"
   ]
  },
  {
   "cell_type": "code",
   "execution_count": 62,
   "metadata": {},
   "outputs": [],
   "source": [
    "hechos = pd.read_excel(\"data\\homicidios.xlsx\", sheet_name=\"HECHOS\")\n",
    "victimas = pd.read_excel(\"data\\homicidios.xlsx\", sheet_name=\"VICTIMAS\")"
   ]
  },
  {
   "cell_type": "markdown",
   "metadata": {},
   "source": [
    "### Exploración Dataframe `hechos`"
   ]
  },
  {
   "cell_type": "code",
   "execution_count": 63,
   "metadata": {},
   "outputs": [
    {
     "data": {
      "text/html": [
       "<div>\n",
       "<style scoped>\n",
       "    .dataframe tbody tr th:only-of-type {\n",
       "        vertical-align: middle;\n",
       "    }\n",
       "\n",
       "    .dataframe tbody tr th {\n",
       "        vertical-align: top;\n",
       "    }\n",
       "\n",
       "    .dataframe thead th {\n",
       "        text-align: right;\n",
       "    }\n",
       "</style>\n",
       "<table border=\"1\" class=\"dataframe\">\n",
       "  <thead>\n",
       "    <tr style=\"text-align: right;\">\n",
       "      <th></th>\n",
       "      <th>ID</th>\n",
       "      <th>N_VICTIMAS</th>\n",
       "      <th>FECHA</th>\n",
       "      <th>AAAA</th>\n",
       "      <th>MM</th>\n",
       "      <th>DD</th>\n",
       "      <th>HORA</th>\n",
       "      <th>HH</th>\n",
       "      <th>LUGAR_DEL_HECHO</th>\n",
       "      <th>TIPO_DE_CALLE</th>\n",
       "      <th>...</th>\n",
       "      <th>Altura</th>\n",
       "      <th>Cruce</th>\n",
       "      <th>Dirección Normalizada</th>\n",
       "      <th>COMUNA</th>\n",
       "      <th>XY (CABA)</th>\n",
       "      <th>pos x</th>\n",
       "      <th>pos y</th>\n",
       "      <th>PARTICIPANTES</th>\n",
       "      <th>VICTIMA</th>\n",
       "      <th>ACUSADO</th>\n",
       "    </tr>\n",
       "  </thead>\n",
       "  <tbody>\n",
       "    <tr>\n",
       "      <th>0</th>\n",
       "      <td>2016-0001</td>\n",
       "      <td>1</td>\n",
       "      <td>2016-01-01</td>\n",
       "      <td>2016</td>\n",
       "      <td>1</td>\n",
       "      <td>1</td>\n",
       "      <td>04:00:00</td>\n",
       "      <td>4</td>\n",
       "      <td>AV PIEDRA BUENA Y AV FERNANDEZ DE LA CRUZ</td>\n",
       "      <td>AVENIDA</td>\n",
       "      <td>...</td>\n",
       "      <td>NaN</td>\n",
       "      <td>FERNANDEZ DE LA CRUZ, F., GRAL. AV.</td>\n",
       "      <td>PIEDRA BUENA AV. y FERNANDEZ DE LA CRUZ, F., G...</td>\n",
       "      <td>8</td>\n",
       "      <td>Point (98896.78238426 93532.43437792)</td>\n",
       "      <td>-58.47533969</td>\n",
       "      <td>-34.68757022</td>\n",
       "      <td>MOTO-AUTO</td>\n",
       "      <td>MOTO</td>\n",
       "      <td>AUTO</td>\n",
       "    </tr>\n",
       "    <tr>\n",
       "      <th>1</th>\n",
       "      <td>2016-0002</td>\n",
       "      <td>1</td>\n",
       "      <td>2016-01-02</td>\n",
       "      <td>2016</td>\n",
       "      <td>1</td>\n",
       "      <td>2</td>\n",
       "      <td>01:15:00</td>\n",
       "      <td>1</td>\n",
       "      <td>AV GRAL PAZ  Y AV DE LOS CORRALES</td>\n",
       "      <td>GRAL PAZ</td>\n",
       "      <td>...</td>\n",
       "      <td>NaN</td>\n",
       "      <td>DE LOS CORRALES AV.</td>\n",
       "      <td>PAZ, GRAL. AV. y DE LOS CORRALES AV.</td>\n",
       "      <td>9</td>\n",
       "      <td>Point (95832.05571093 95505.41641999)</td>\n",
       "      <td>-58.50877521</td>\n",
       "      <td>-34.66977709</td>\n",
       "      <td>AUTO-PASAJEROS</td>\n",
       "      <td>AUTO</td>\n",
       "      <td>PASAJEROS</td>\n",
       "    </tr>\n",
       "    <tr>\n",
       "      <th>2</th>\n",
       "      <td>2016-0003</td>\n",
       "      <td>1</td>\n",
       "      <td>2016-01-03</td>\n",
       "      <td>2016</td>\n",
       "      <td>1</td>\n",
       "      <td>3</td>\n",
       "      <td>07:00:00</td>\n",
       "      <td>7</td>\n",
       "      <td>AV ENTRE RIOS 2034</td>\n",
       "      <td>AVENIDA</td>\n",
       "      <td>...</td>\n",
       "      <td>2034.0</td>\n",
       "      <td>NaN</td>\n",
       "      <td>ENTRE RIOS AV. 2034</td>\n",
       "      <td>1</td>\n",
       "      <td>Point (106684.29090040 99706.57687843)</td>\n",
       "      <td>-58.39040293</td>\n",
       "      <td>-34.63189362</td>\n",
       "      <td>MOTO-AUTO</td>\n",
       "      <td>MOTO</td>\n",
       "      <td>AUTO</td>\n",
       "    </tr>\n",
       "    <tr>\n",
       "      <th>3</th>\n",
       "      <td>2016-0004</td>\n",
       "      <td>1</td>\n",
       "      <td>2016-01-10</td>\n",
       "      <td>2016</td>\n",
       "      <td>1</td>\n",
       "      <td>10</td>\n",
       "      <td>00:00:00</td>\n",
       "      <td>0</td>\n",
       "      <td>AV LARRAZABAL Y GRAL VILLEGAS CONRADO</td>\n",
       "      <td>AVENIDA</td>\n",
       "      <td>...</td>\n",
       "      <td>NaN</td>\n",
       "      <td>VILLEGAS, CONRADO, GRAL.</td>\n",
       "      <td>LARRAZABAL AV. y VILLEGAS, CONRADO, GRAL.</td>\n",
       "      <td>8</td>\n",
       "      <td>Point (99840.65224780 94269.16534422)</td>\n",
       "      <td>-58.46503904</td>\n",
       "      <td>-34.68092974</td>\n",
       "      <td>MOTO-SD</td>\n",
       "      <td>MOTO</td>\n",
       "      <td>SD</td>\n",
       "    </tr>\n",
       "    <tr>\n",
       "      <th>4</th>\n",
       "      <td>2016-0005</td>\n",
       "      <td>1</td>\n",
       "      <td>2016-01-21</td>\n",
       "      <td>2016</td>\n",
       "      <td>1</td>\n",
       "      <td>21</td>\n",
       "      <td>05:20:00</td>\n",
       "      <td>5</td>\n",
       "      <td>AV SAN JUAN Y PRESIDENTE LUIS SAENZ PEÑA</td>\n",
       "      <td>AVENIDA</td>\n",
       "      <td>...</td>\n",
       "      <td>NaN</td>\n",
       "      <td>SAENZ PE?A, LUIS, PRES.</td>\n",
       "      <td>SAN JUAN AV. y SAENZ PEÃ‘A, LUIS, PRES.</td>\n",
       "      <td>1</td>\n",
       "      <td>Point (106980.32827929 100752.16915795)</td>\n",
       "      <td>-58.38718297</td>\n",
       "      <td>-34.62246630</td>\n",
       "      <td>MOTO-PASAJEROS</td>\n",
       "      <td>MOTO</td>\n",
       "      <td>PASAJEROS</td>\n",
       "    </tr>\n",
       "  </tbody>\n",
       "</table>\n",
       "<p>5 rows × 21 columns</p>\n",
       "</div>"
      ],
      "text/plain": [
       "          ID  N_VICTIMAS      FECHA  AAAA  MM  DD      HORA HH  \\\n",
       "0  2016-0001           1 2016-01-01  2016   1   1  04:00:00  4   \n",
       "1  2016-0002           1 2016-01-02  2016   1   2  01:15:00  1   \n",
       "2  2016-0003           1 2016-01-03  2016   1   3  07:00:00  7   \n",
       "3  2016-0004           1 2016-01-10  2016   1  10  00:00:00  0   \n",
       "4  2016-0005           1 2016-01-21  2016   1  21  05:20:00  5   \n",
       "\n",
       "                             LUGAR_DEL_HECHO TIPO_DE_CALLE  ...  Altura  \\\n",
       "0  AV PIEDRA BUENA Y AV FERNANDEZ DE LA CRUZ       AVENIDA  ...     NaN   \n",
       "1          AV GRAL PAZ  Y AV DE LOS CORRALES      GRAL PAZ  ...     NaN   \n",
       "2                         AV ENTRE RIOS 2034       AVENIDA  ...  2034.0   \n",
       "3      AV LARRAZABAL Y GRAL VILLEGAS CONRADO       AVENIDA  ...     NaN   \n",
       "4  AV SAN JUAN Y PRESIDENTE LUIS SAENZ PEÑA        AVENIDA  ...     NaN   \n",
       "\n",
       "                                 Cruce  \\\n",
       "0  FERNANDEZ DE LA CRUZ, F., GRAL. AV.   \n",
       "1                  DE LOS CORRALES AV.   \n",
       "2                                  NaN   \n",
       "3             VILLEGAS, CONRADO, GRAL.   \n",
       "4              SAENZ PE?A, LUIS, PRES.   \n",
       "\n",
       "                               Dirección Normalizada COMUNA  \\\n",
       "0  PIEDRA BUENA AV. y FERNANDEZ DE LA CRUZ, F., G...      8   \n",
       "1               PAZ, GRAL. AV. y DE LOS CORRALES AV.      9   \n",
       "2                                ENTRE RIOS AV. 2034      1   \n",
       "3          LARRAZABAL AV. y VILLEGAS, CONRADO, GRAL.      8   \n",
       "4            SAN JUAN AV. y SAENZ PEÃ‘A, LUIS, PRES.      1   \n",
       "\n",
       "                                 XY (CABA)         pos x         pos y  \\\n",
       "0    Point (98896.78238426 93532.43437792)  -58.47533969  -34.68757022   \n",
       "1    Point (95832.05571093 95505.41641999)  -58.50877521  -34.66977709   \n",
       "2   Point (106684.29090040 99706.57687843)  -58.39040293  -34.63189362   \n",
       "3    Point (99840.65224780 94269.16534422)  -58.46503904  -34.68092974   \n",
       "4  Point (106980.32827929 100752.16915795)  -58.38718297  -34.62246630   \n",
       "\n",
       "    PARTICIPANTES VICTIMA    ACUSADO  \n",
       "0       MOTO-AUTO    MOTO       AUTO  \n",
       "1  AUTO-PASAJEROS    AUTO  PASAJEROS  \n",
       "2       MOTO-AUTO    MOTO       AUTO  \n",
       "3         MOTO-SD    MOTO         SD  \n",
       "4  MOTO-PASAJEROS    MOTO  PASAJEROS  \n",
       "\n",
       "[5 rows x 21 columns]"
      ]
     },
     "execution_count": 63,
     "metadata": {},
     "output_type": "execute_result"
    }
   ],
   "source": [
    "hechos.head()  # Visualizamos los primeros 5 registros"
   ]
  },
  {
   "cell_type": "code",
   "execution_count": 64,
   "metadata": {},
   "outputs": [
    {
     "data": {
      "text/plain": [
       "(696, 21)"
      ]
     },
     "execution_count": 64,
     "metadata": {},
     "output_type": "execute_result"
    }
   ],
   "source": [
    "hechos.shape  # Tamaño del dataset"
   ]
  },
  {
   "cell_type": "code",
   "execution_count": 65,
   "metadata": {},
   "outputs": [
    {
     "data": {
      "text/plain": [
       "(696, 21)"
      ]
     },
     "execution_count": 65,
     "metadata": {},
     "output_type": "execute_result"
    }
   ],
   "source": [
    "# Eliminamos vacíos dado que exista un registro con todos sus datos vacíos\n",
    "hechos = hechos.dropna(how=\"all\")\n",
    "\n",
    "# Eliminamos registros duplicados\n",
    "hechos = hechos.drop_duplicates()  # Eliminamos duplicados\n",
    "\n",
    "# Revisamos el tamaño del dataframe\n",
    "hechos.shape"
   ]
  },
  {
   "cell_type": "markdown",
   "metadata": {},
   "source": [
    "Observaciones: \n",
    "\n",
    "* Se Observa que no existen columnas y filas con todos sus valores vacíos o duplicados. "
   ]
  },
  {
   "cell_type": "markdown",
   "metadata": {},
   "source": [
    "### Verificamos el tipo de datos, y el total de nulos por columna en porcentaje."
   ]
  },
  {
   "cell_type": "code",
   "execution_count": 66,
   "metadata": {},
   "outputs": [
    {
     "data": {
      "text/html": [
       "<div>\n",
       "<style scoped>\n",
       "    .dataframe tbody tr th:only-of-type {\n",
       "        vertical-align: middle;\n",
       "    }\n",
       "\n",
       "    .dataframe tbody tr th {\n",
       "        vertical-align: top;\n",
       "    }\n",
       "\n",
       "    .dataframe thead th {\n",
       "        text-align: right;\n",
       "    }\n",
       "</style>\n",
       "<table border=\"1\" class=\"dataframe\">\n",
       "  <thead>\n",
       "    <tr style=\"text-align: right;\">\n",
       "      <th></th>\n",
       "      <th>nombre_campo</th>\n",
       "      <th>tipo_datos</th>\n",
       "      <th>no_nulos_%</th>\n",
       "      <th>nulos_%</th>\n",
       "      <th>nulos</th>\n",
       "    </tr>\n",
       "  </thead>\n",
       "  <tbody>\n",
       "    <tr>\n",
       "      <th>11</th>\n",
       "      <td>Altura</td>\n",
       "      <td>[&lt;class 'float'&gt;]</td>\n",
       "      <td>18.53</td>\n",
       "      <td>81.47</td>\n",
       "      <td>567</td>\n",
       "    </tr>\n",
       "    <tr>\n",
       "      <th>12</th>\n",
       "      <td>Cruce</td>\n",
       "      <td>[&lt;class 'str'&gt;, &lt;class 'float'&gt;]</td>\n",
       "      <td>75.43</td>\n",
       "      <td>24.57</td>\n",
       "      <td>171</td>\n",
       "    </tr>\n",
       "    <tr>\n",
       "      <th>13</th>\n",
       "      <td>Dirección Normalizada</td>\n",
       "      <td>[&lt;class 'str'&gt;, &lt;class 'float'&gt;]</td>\n",
       "      <td>98.85</td>\n",
       "      <td>1.15</td>\n",
       "      <td>8</td>\n",
       "    </tr>\n",
       "    <tr>\n",
       "      <th>10</th>\n",
       "      <td>Calle</td>\n",
       "      <td>[&lt;class 'str'&gt;, &lt;class 'float'&gt;]</td>\n",
       "      <td>99.86</td>\n",
       "      <td>0.14</td>\n",
       "      <td>1</td>\n",
       "    </tr>\n",
       "    <tr>\n",
       "      <th>19</th>\n",
       "      <td>VICTIMA</td>\n",
       "      <td>[&lt;class 'str'&gt;]</td>\n",
       "      <td>100.00</td>\n",
       "      <td>0.00</td>\n",
       "      <td>0</td>\n",
       "    </tr>\n",
       "    <tr>\n",
       "      <th>18</th>\n",
       "      <td>PARTICIPANTES</td>\n",
       "      <td>[&lt;class 'str'&gt;]</td>\n",
       "      <td>100.00</td>\n",
       "      <td>0.00</td>\n",
       "      <td>0</td>\n",
       "    </tr>\n",
       "    <tr>\n",
       "      <th>17</th>\n",
       "      <td>pos y</td>\n",
       "      <td>[&lt;class 'str'&gt;]</td>\n",
       "      <td>100.00</td>\n",
       "      <td>0.00</td>\n",
       "      <td>0</td>\n",
       "    </tr>\n",
       "    <tr>\n",
       "      <th>16</th>\n",
       "      <td>pos x</td>\n",
       "      <td>[&lt;class 'str'&gt;]</td>\n",
       "      <td>100.00</td>\n",
       "      <td>0.00</td>\n",
       "      <td>0</td>\n",
       "    </tr>\n",
       "    <tr>\n",
       "      <th>15</th>\n",
       "      <td>XY (CABA)</td>\n",
       "      <td>[&lt;class 'str'&gt;]</td>\n",
       "      <td>100.00</td>\n",
       "      <td>0.00</td>\n",
       "      <td>0</td>\n",
       "    </tr>\n",
       "    <tr>\n",
       "      <th>14</th>\n",
       "      <td>COMUNA</td>\n",
       "      <td>[&lt;class 'int'&gt;]</td>\n",
       "      <td>100.00</td>\n",
       "      <td>0.00</td>\n",
       "      <td>0</td>\n",
       "    </tr>\n",
       "    <tr>\n",
       "      <th>0</th>\n",
       "      <td>ID</td>\n",
       "      <td>[&lt;class 'str'&gt;]</td>\n",
       "      <td>100.00</td>\n",
       "      <td>0.00</td>\n",
       "      <td>0</td>\n",
       "    </tr>\n",
       "    <tr>\n",
       "      <th>1</th>\n",
       "      <td>N_VICTIMAS</td>\n",
       "      <td>[&lt;class 'int'&gt;]</td>\n",
       "      <td>100.00</td>\n",
       "      <td>0.00</td>\n",
       "      <td>0</td>\n",
       "    </tr>\n",
       "    <tr>\n",
       "      <th>9</th>\n",
       "      <td>TIPO_DE_CALLE</td>\n",
       "      <td>[&lt;class 'str'&gt;]</td>\n",
       "      <td>100.00</td>\n",
       "      <td>0.00</td>\n",
       "      <td>0</td>\n",
       "    </tr>\n",
       "    <tr>\n",
       "      <th>8</th>\n",
       "      <td>LUGAR_DEL_HECHO</td>\n",
       "      <td>[&lt;class 'str'&gt;]</td>\n",
       "      <td>100.00</td>\n",
       "      <td>0.00</td>\n",
       "      <td>0</td>\n",
       "    </tr>\n",
       "    <tr>\n",
       "      <th>7</th>\n",
       "      <td>HH</td>\n",
       "      <td>[&lt;class 'int'&gt;, &lt;class 'str'&gt;]</td>\n",
       "      <td>100.00</td>\n",
       "      <td>0.00</td>\n",
       "      <td>0</td>\n",
       "    </tr>\n",
       "    <tr>\n",
       "      <th>6</th>\n",
       "      <td>HORA</td>\n",
       "      <td>[&lt;class 'datetime.time'&gt;, &lt;class 'str'&gt;, &lt;clas...</td>\n",
       "      <td>100.00</td>\n",
       "      <td>0.00</td>\n",
       "      <td>0</td>\n",
       "    </tr>\n",
       "    <tr>\n",
       "      <th>5</th>\n",
       "      <td>DD</td>\n",
       "      <td>[&lt;class 'int'&gt;]</td>\n",
       "      <td>100.00</td>\n",
       "      <td>0.00</td>\n",
       "      <td>0</td>\n",
       "    </tr>\n",
       "    <tr>\n",
       "      <th>4</th>\n",
       "      <td>MM</td>\n",
       "      <td>[&lt;class 'int'&gt;]</td>\n",
       "      <td>100.00</td>\n",
       "      <td>0.00</td>\n",
       "      <td>0</td>\n",
       "    </tr>\n",
       "    <tr>\n",
       "      <th>3</th>\n",
       "      <td>AAAA</td>\n",
       "      <td>[&lt;class 'int'&gt;]</td>\n",
       "      <td>100.00</td>\n",
       "      <td>0.00</td>\n",
       "      <td>0</td>\n",
       "    </tr>\n",
       "    <tr>\n",
       "      <th>2</th>\n",
       "      <td>FECHA</td>\n",
       "      <td>[&lt;class 'pandas._libs.tslibs.timestamps.Timest...</td>\n",
       "      <td>100.00</td>\n",
       "      <td>0.00</td>\n",
       "      <td>0</td>\n",
       "    </tr>\n",
       "    <tr>\n",
       "      <th>20</th>\n",
       "      <td>ACUSADO</td>\n",
       "      <td>[&lt;class 'str'&gt;]</td>\n",
       "      <td>100.00</td>\n",
       "      <td>0.00</td>\n",
       "      <td>0</td>\n",
       "    </tr>\n",
       "  </tbody>\n",
       "</table>\n",
       "</div>"
      ],
      "text/plain": [
       "             nombre_campo                                         tipo_datos  \\\n",
       "11                 Altura                                  [<class 'float'>]   \n",
       "12                  Cruce                   [<class 'str'>, <class 'float'>]   \n",
       "13  Dirección Normalizada                   [<class 'str'>, <class 'float'>]   \n",
       "10                  Calle                   [<class 'str'>, <class 'float'>]   \n",
       "19                VICTIMA                                    [<class 'str'>]   \n",
       "18          PARTICIPANTES                                    [<class 'str'>]   \n",
       "17                  pos y                                    [<class 'str'>]   \n",
       "16                  pos x                                    [<class 'str'>]   \n",
       "15              XY (CABA)                                    [<class 'str'>]   \n",
       "14                 COMUNA                                    [<class 'int'>]   \n",
       "0                      ID                                    [<class 'str'>]   \n",
       "1              N_VICTIMAS                                    [<class 'int'>]   \n",
       "9           TIPO_DE_CALLE                                    [<class 'str'>]   \n",
       "8         LUGAR_DEL_HECHO                                    [<class 'str'>]   \n",
       "7                      HH                     [<class 'int'>, <class 'str'>]   \n",
       "6                    HORA  [<class 'datetime.time'>, <class 'str'>, <clas...   \n",
       "5                      DD                                    [<class 'int'>]   \n",
       "4                      MM                                    [<class 'int'>]   \n",
       "3                    AAAA                                    [<class 'int'>]   \n",
       "2                   FECHA  [<class 'pandas._libs.tslibs.timestamps.Timest...   \n",
       "20                ACUSADO                                    [<class 'str'>]   \n",
       "\n",
       "    no_nulos_%  nulos_%  nulos  \n",
       "11       18.53    81.47    567  \n",
       "12       75.43    24.57    171  \n",
       "13       98.85     1.15      8  \n",
       "10       99.86     0.14      1  \n",
       "19      100.00     0.00      0  \n",
       "18      100.00     0.00      0  \n",
       "17      100.00     0.00      0  \n",
       "16      100.00     0.00      0  \n",
       "15      100.00     0.00      0  \n",
       "14      100.00     0.00      0  \n",
       "0       100.00     0.00      0  \n",
       "1       100.00     0.00      0  \n",
       "9       100.00     0.00      0  \n",
       "8       100.00     0.00      0  \n",
       "7       100.00     0.00      0  \n",
       "6       100.00     0.00      0  \n",
       "5       100.00     0.00      0  \n",
       "4       100.00     0.00      0  \n",
       "3       100.00     0.00      0  \n",
       "2       100.00     0.00      0  \n",
       "20      100.00     0.00      0  "
      ]
     },
     "execution_count": 66,
     "metadata": {},
     "output_type": "execute_result"
    }
   ],
   "source": [
    "utils.verificar_tipo_datos_y_nulos(hechos)"
   ]
  },
  {
   "cell_type": "markdown",
   "metadata": {},
   "source": [
    "Observaciones: \n",
    "\n",
    "* Es necesario renombrar columnas para manejar un solo formato de nombres de campos.\n",
    "* Se elimina el campo ALTURA por tener una gran cantidad de nulos y no poder imputar.\n",
    "* El campo cruce hace referencia a si es cruce o no, se imputan los valores vacíos con \"No\" y si efectivamente es un cruce con \"Si\".\n",
    "* La columna \"Dirección normalizada\" se imputará con ayuda de la columna \"lugar del hecho\". \n",
    "* Las columnas 'HORA', 'HH' y 'Calle' presentan varios tipos de datos en la misma columna, por lo que se deben revisar cada uno y asignar un único tipo de dato."
   ]
  },
  {
   "cell_type": "markdown",
   "metadata": {},
   "source": [
    "### Renombrar columnas"
   ]
  },
  {
   "cell_type": "code",
   "execution_count": 67,
   "metadata": {},
   "outputs": [],
   "source": [
    "# Renombramos columnas\n",
    "hechos.rename(\n",
    "    columns={\n",
    "        \"ID\": \"id\",\n",
    "        \"N_VICTIMAS\": \"num_victimas\",\n",
    "        \"FECHA\": \"fecha\",\n",
    "        \"AAAA\": \"anio\",\n",
    "        \"MM\": \"mes\",\n",
    "        \"DD\": \"dia\",\n",
    "        \"HORA\": \"hora\",\n",
    "        \"HH\": \"franja_horaria\",\n",
    "        \"LUGAR_DEL_HECHO\": \"lugar\",\n",
    "        \"TIPO_DE_CALLE\": \"tipo_calle\",\n",
    "        \"COMUNA\": \"comuna\",\n",
    "        \"XY (CABA)\": \"punto_coordenado\",\n",
    "        \"pos x\": \"longitud\",\n",
    "        \"pos y\": \"latitud\",\n",
    "        \"PARTICIPANTES\": \"participantes\",\n",
    "        \"VICTIMA\": \"victima\",\n",
    "        \"ACUSADO\": \"acusado\",\n",
    "        \"Dirección Normalizada\": \"direccion_normalizada\",\n",
    "        \"Calle\": \"calle\",\n",
    "        \"Altura\": \"altura\",\n",
    "        \"Cruce\": \"cruce\",\n",
    "    },\n",
    "    inplace=True,\n",
    ")"
   ]
  },
  {
   "cell_type": "code",
   "execution_count": 68,
   "metadata": {},
   "outputs": [
    {
     "data": {
      "text/plain": [
       "Index(['id', 'num_victimas', 'fecha', 'anio', 'mes', 'dia', 'hora',\n",
       "       'franja_horaria', 'lugar', 'tipo_calle', 'calle', 'altura', 'cruce',\n",
       "       'direccion_normalizada', 'comuna', 'punto_coordenado', 'longitud',\n",
       "       'latitud', 'participantes', 'victima', 'acusado'],\n",
       "      dtype='object')"
      ]
     },
     "execution_count": 68,
     "metadata": {},
     "output_type": "execute_result"
    }
   ],
   "source": [
    "# Observamos las columnas renombradas\n",
    "hechos.columns"
   ]
  },
  {
   "cell_type": "markdown",
   "metadata": {},
   "source": [
    "### Eliminación de columna `altura`, debido al alto número de valores nulos"
   ]
  },
  {
   "cell_type": "code",
   "execution_count": 69,
   "metadata": {},
   "outputs": [],
   "source": [
    "# Eliminar la columna ALTURA\n",
    "hechos = hechos.drop([\"altura\"], axis=1)"
   ]
  },
  {
   "cell_type": "markdown",
   "metadata": {},
   "source": [
    "### Imputación de datos nulos en la columna `cruce`, los vacíos se cambian por \"No\" y los demás por \"Si\""
   ]
  },
  {
   "cell_type": "code",
   "execution_count": 70,
   "metadata": {},
   "outputs": [
    {
     "data": {
      "text/plain": [
       "0      Si\n",
       "1      Si\n",
       "2      No\n",
       "3      Si\n",
       "4      Si\n",
       "       ..\n",
       "691    Si\n",
       "692    Si\n",
       "693    Si\n",
       "694    No\n",
       "695    No\n",
       "Name: cruce, Length: 696, dtype: object"
      ]
     },
     "execution_count": 70,
     "metadata": {},
     "output_type": "execute_result"
    }
   ],
   "source": [
    "# Se reemplazan los valores no nulos por \"no\" y los nulos por \"si\"\n",
    "hechos[\"cruce\"] = np.where(hechos[\"cruce\"].notnull(), \"Si\", \"No\")\n",
    "hechos[\"cruce\"]"
   ]
  },
  {
   "cell_type": "markdown",
   "metadata": {},
   "source": [
    "### Imputación de datos nulos en la columna `direccion_normalizada`, los vacíos se cambian por \"Sin dato\", debido a que no hay información que permita completar de forma acertada estos datos faltantes, aunque solo representan un 1% del dataset, no se considera eliminar sus registros para preservar la mayor información posible"
   ]
  },
  {
   "cell_type": "code",
   "execution_count": 71,
   "metadata": {},
   "outputs": [
    {
     "data": {
      "text/plain": [
       "38     SD\n",
       "106    SD\n",
       "119    SD\n",
       "180    SD\n",
       "181    SD\n",
       "313    SD\n",
       "546    SD\n",
       "621    SD\n",
       "Name: direccion_normalizada, dtype: object"
      ]
     },
     "execution_count": 71,
     "metadata": {},
     "output_type": "execute_result"
    }
   ],
   "source": [
    "# Se rellenan nulos con SD\n",
    "hechos[\"direccion_normalizada\"].fillna(\"SD\", inplace=True)\n",
    "\n",
    "# Se verifican los datos imputados\n",
    "hechos[hechos[\"direccion_normalizada\"] == \"SD\"][\"direccion_normalizada\"]"
   ]
  },
  {
   "cell_type": "markdown",
   "metadata": {},
   "source": [
    "### Tipos de variables (hora, franja_horaria, calle)"
   ]
  },
  {
   "cell_type": "markdown",
   "metadata": {},
   "source": [
    "### hora"
   ]
  },
  {
   "cell_type": "code",
   "execution_count": 72,
   "metadata": {},
   "outputs": [
    {
     "data": {
      "text/plain": [
       "hora\n",
       "<class 'datetime.time'>        608\n",
       "<class 'str'>                   85\n",
       "<class 'datetime.datetime'>      3\n",
       "Name: count, dtype: int64"
      ]
     },
     "execution_count": 72,
     "metadata": {},
     "output_type": "execute_result"
    }
   ],
   "source": [
    "# Cantidad de valores por tipo de dato en la columna 'hora'\n",
    "hechos[\"hora\"].apply(type).value_counts()"
   ]
  },
  {
   "cell_type": "markdown",
   "metadata": {},
   "source": [
    "Conclusión\n",
    "- Dado que la mayoría de los datos son del tipo datetime.time, se decide convertir todos a este tipo de dato."
   ]
  },
  {
   "cell_type": "code",
   "execution_count": 73,
   "metadata": {},
   "outputs": [
    {
     "data": {
      "text/plain": [
       "hora\n",
       "<class 'datetime.time'>    695\n",
       "<class 'NoneType'>           1\n",
       "Name: count, dtype: int64"
      ]
     },
     "execution_count": 73,
     "metadata": {},
     "output_type": "execute_result"
    }
   ],
   "source": [
    "# Se cambia el tipo de dato\n",
    "hechos[\"hora\"] = hechos[\"hora\"].apply(\n",
    "    lambda x: utils.convertir_a_time(x)\n",
    ")  # Se usa la función convertir_a_time de Utils\n",
    "\n",
    "# Se verifica la cantidad de valores por tipo de dato en la columna 'hora'\n",
    "hechos[\"hora\"].apply(type).value_counts()"
   ]
  },
  {
   "cell_type": "markdown",
   "metadata": {},
   "source": [
    "Se observa cuál es el registro que presenta NoneType "
   ]
  },
  {
   "cell_type": "code",
   "execution_count": 74,
   "metadata": {},
   "outputs": [
    {
     "data": {
      "text/html": [
       "<div>\n",
       "<style scoped>\n",
       "    .dataframe tbody tr th:only-of-type {\n",
       "        vertical-align: middle;\n",
       "    }\n",
       "\n",
       "    .dataframe tbody tr th {\n",
       "        vertical-align: top;\n",
       "    }\n",
       "\n",
       "    .dataframe thead th {\n",
       "        text-align: right;\n",
       "    }\n",
       "</style>\n",
       "<table border=\"1\" class=\"dataframe\">\n",
       "  <thead>\n",
       "    <tr style=\"text-align: right;\">\n",
       "      <th></th>\n",
       "      <th>id</th>\n",
       "      <th>num_victimas</th>\n",
       "      <th>fecha</th>\n",
       "      <th>anio</th>\n",
       "      <th>mes</th>\n",
       "      <th>dia</th>\n",
       "      <th>hora</th>\n",
       "      <th>franja_horaria</th>\n",
       "      <th>lugar</th>\n",
       "      <th>tipo_calle</th>\n",
       "      <th>calle</th>\n",
       "      <th>cruce</th>\n",
       "      <th>direccion_normalizada</th>\n",
       "      <th>comuna</th>\n",
       "      <th>punto_coordenado</th>\n",
       "      <th>longitud</th>\n",
       "      <th>latitud</th>\n",
       "      <th>participantes</th>\n",
       "      <th>victima</th>\n",
       "      <th>acusado</th>\n",
       "    </tr>\n",
       "  </thead>\n",
       "  <tbody>\n",
       "    <tr>\n",
       "      <th>518</th>\n",
       "      <td>2019-0103</td>\n",
       "      <td>1</td>\n",
       "      <td>2019-12-18</td>\n",
       "      <td>2019</td>\n",
       "      <td>12</td>\n",
       "      <td>18</td>\n",
       "      <td>None</td>\n",
       "      <td>SD</td>\n",
       "      <td>PAZ, GRAL. AV. Y GRIVEO</td>\n",
       "      <td>GRAL PAZ</td>\n",
       "      <td>PAZ, GRAL. AV.</td>\n",
       "      <td>Si</td>\n",
       "      <td>PAZ, GRAL. AV. y GRIVEO</td>\n",
       "      <td>11</td>\n",
       "      <td>Point (94643.11254058 103831.57115061)</td>\n",
       "      <td>-58.52169422</td>\n",
       "      <td>-34.59471640</td>\n",
       "      <td>MOTO-MOTO</td>\n",
       "      <td>MOTO</td>\n",
       "      <td>MOTO</td>\n",
       "    </tr>\n",
       "  </tbody>\n",
       "</table>\n",
       "</div>"
      ],
      "text/plain": [
       "            id  num_victimas      fecha  anio  mes  dia  hora franja_horaria  \\\n",
       "518  2019-0103             1 2019-12-18  2019   12   18  None             SD   \n",
       "\n",
       "                       lugar tipo_calle           calle cruce  \\\n",
       "518  PAZ, GRAL. AV. Y GRIVEO   GRAL PAZ  PAZ, GRAL. AV.    Si   \n",
       "\n",
       "       direccion_normalizada  comuna                        punto_coordenado  \\\n",
       "518  PAZ, GRAL. AV. y GRIVEO      11  Point (94643.11254058 103831.57115061)   \n",
       "\n",
       "         longitud       latitud participantes victima acusado  \n",
       "518  -58.52169422  -34.59471640     MOTO-MOTO    MOTO    MOTO  "
      ]
     },
     "execution_count": 74,
     "metadata": {},
     "output_type": "execute_result"
    }
   ],
   "source": [
    "hechos[hechos[\"hora\"].isna()]"
   ]
  },
  {
   "cell_type": "markdown",
   "metadata": {},
   "source": [
    "Se imputa el valor de faltante con las horas más frecuentes del dataset, es decir la Moda"
   ]
  },
  {
   "cell_type": "code",
   "execution_count": 75,
   "metadata": {},
   "outputs": [
    {
     "data": {
      "text/plain": [
       "hora\n",
       "<class 'datetime.time'>    696\n",
       "Name: count, dtype: int64"
      ]
     },
     "execution_count": 75,
     "metadata": {},
     "output_type": "execute_result"
    }
   ],
   "source": [
    "# Calcula la hora mas común\n",
    "moda_hora = hechos[\"hora\"].mode().iloc[0]\n",
    "\n",
    "# Se reemplaza el valor None por la hora más común\n",
    "hechos[\"hora\"].fillna(moda_hora, inplace=True)\n",
    "\n",
    "# Se verifica el tipo de dato para la columna\n",
    "hechos[\"hora\"].apply(type).value_counts()"
   ]
  },
  {
   "cell_type": "markdown",
   "metadata": {},
   "source": [
    "Ya todos los datos son del tipo datetime.time"
   ]
  },
  {
   "cell_type": "markdown",
   "metadata": {},
   "source": [
    "### franja_horaria"
   ]
  },
  {
   "cell_type": "code",
   "execution_count": 76,
   "metadata": {},
   "outputs": [
    {
     "data": {
      "text/plain": [
       "franja_horaria\n",
       "<class 'int'>    695\n",
       "<class 'str'>      1\n",
       "Name: count, dtype: int64"
      ]
     },
     "execution_count": 76,
     "metadata": {},
     "output_type": "execute_result"
    }
   ],
   "source": [
    "# Cantidad de valores por tipo de dato en la columna 'hora'\n",
    "hechos[\"franja_horaria\"].apply(type).value_counts()"
   ]
  },
  {
   "cell_type": "code",
   "execution_count": 77,
   "metadata": {},
   "outputs": [
    {
     "data": {
      "text/html": [
       "<div>\n",
       "<style scoped>\n",
       "    .dataframe tbody tr th:only-of-type {\n",
       "        vertical-align: middle;\n",
       "    }\n",
       "\n",
       "    .dataframe tbody tr th {\n",
       "        vertical-align: top;\n",
       "    }\n",
       "\n",
       "    .dataframe thead th {\n",
       "        text-align: right;\n",
       "    }\n",
       "</style>\n",
       "<table border=\"1\" class=\"dataframe\">\n",
       "  <thead>\n",
       "    <tr style=\"text-align: right;\">\n",
       "      <th></th>\n",
       "      <th>id</th>\n",
       "      <th>num_victimas</th>\n",
       "      <th>fecha</th>\n",
       "      <th>anio</th>\n",
       "      <th>mes</th>\n",
       "      <th>dia</th>\n",
       "      <th>hora</th>\n",
       "      <th>franja_horaria</th>\n",
       "      <th>lugar</th>\n",
       "      <th>tipo_calle</th>\n",
       "      <th>calle</th>\n",
       "      <th>cruce</th>\n",
       "      <th>direccion_normalizada</th>\n",
       "      <th>comuna</th>\n",
       "      <th>punto_coordenado</th>\n",
       "      <th>longitud</th>\n",
       "      <th>latitud</th>\n",
       "      <th>participantes</th>\n",
       "      <th>victima</th>\n",
       "      <th>acusado</th>\n",
       "    </tr>\n",
       "  </thead>\n",
       "  <tbody>\n",
       "    <tr>\n",
       "      <th>518</th>\n",
       "      <td>2019-0103</td>\n",
       "      <td>1</td>\n",
       "      <td>2019-12-18</td>\n",
       "      <td>2019</td>\n",
       "      <td>12</td>\n",
       "      <td>18</td>\n",
       "      <td>09:00:00</td>\n",
       "      <td>SD</td>\n",
       "      <td>PAZ, GRAL. AV. Y GRIVEO</td>\n",
       "      <td>GRAL PAZ</td>\n",
       "      <td>PAZ, GRAL. AV.</td>\n",
       "      <td>Si</td>\n",
       "      <td>PAZ, GRAL. AV. y GRIVEO</td>\n",
       "      <td>11</td>\n",
       "      <td>Point (94643.11254058 103831.57115061)</td>\n",
       "      <td>-58.52169422</td>\n",
       "      <td>-34.59471640</td>\n",
       "      <td>MOTO-MOTO</td>\n",
       "      <td>MOTO</td>\n",
       "      <td>MOTO</td>\n",
       "    </tr>\n",
       "  </tbody>\n",
       "</table>\n",
       "</div>"
      ],
      "text/plain": [
       "            id  num_victimas      fecha  anio  mes  dia      hora  \\\n",
       "518  2019-0103             1 2019-12-18  2019   12   18  09:00:00   \n",
       "\n",
       "    franja_horaria                    lugar tipo_calle           calle cruce  \\\n",
       "518             SD  PAZ, GRAL. AV. Y GRIVEO   GRAL PAZ  PAZ, GRAL. AV.    Si   \n",
       "\n",
       "       direccion_normalizada  comuna                        punto_coordenado  \\\n",
       "518  PAZ, GRAL. AV. y GRIVEO      11  Point (94643.11254058 103831.57115061)   \n",
       "\n",
       "         longitud       latitud participantes victima acusado  \n",
       "518  -58.52169422  -34.59471640     MOTO-MOTO    MOTO    MOTO  "
      ]
     },
     "execution_count": 77,
     "metadata": {},
     "output_type": "execute_result"
    }
   ],
   "source": [
    "# Observamos el valor que es string\n",
    "hechos[hechos[\"franja_horaria\"] == \"SD\"]"
   ]
  },
  {
   "cell_type": "code",
   "execution_count": 78,
   "metadata": {},
   "outputs": [
    {
     "data": {
      "text/plain": [
       "franja_horaria\n",
       "<class 'int'>    696\n",
       "Name: count, dtype: int64"
      ]
     },
     "execution_count": 78,
     "metadata": {},
     "output_type": "execute_result"
    }
   ],
   "source": [
    "# Cambiamos el valor de la franja_horaria de SD a el entero de la columna 'hora'\n",
    "hechos.loc[518, \"franja_horaria\"] = 9\n",
    "\n",
    "# Verificamos el cambio hecho\n",
    "hechos[\"franja_horaria\"].apply(type).value_counts()"
   ]
  },
  {
   "cell_type": "markdown",
   "metadata": {},
   "source": [
    "Ya todos los datos son del tipo integer"
   ]
  },
  {
   "cell_type": "markdown",
   "metadata": {},
   "source": [
    "### calle"
   ]
  },
  {
   "cell_type": "code",
   "execution_count": 79,
   "metadata": {},
   "outputs": [
    {
     "data": {
      "text/plain": [
       "calle\n",
       "<class 'str'>      695\n",
       "<class 'float'>      1\n",
       "Name: count, dtype: int64"
      ]
     },
     "execution_count": 79,
     "metadata": {},
     "output_type": "execute_result"
    }
   ],
   "source": [
    "# Cantidad de valores por tipo de dato en la columna 'hora'\n",
    "hechos[\"calle\"].apply(type).value_counts()"
   ]
  },
  {
   "cell_type": "code",
   "execution_count": 80,
   "metadata": {},
   "outputs": [
    {
     "data": {
      "text/html": [
       "<div>\n",
       "<style scoped>\n",
       "    .dataframe tbody tr th:only-of-type {\n",
       "        vertical-align: middle;\n",
       "    }\n",
       "\n",
       "    .dataframe tbody tr th {\n",
       "        vertical-align: top;\n",
       "    }\n",
       "\n",
       "    .dataframe thead th {\n",
       "        text-align: right;\n",
       "    }\n",
       "</style>\n",
       "<table border=\"1\" class=\"dataframe\">\n",
       "  <thead>\n",
       "    <tr style=\"text-align: right;\">\n",
       "      <th></th>\n",
       "      <th>id</th>\n",
       "      <th>num_victimas</th>\n",
       "      <th>fecha</th>\n",
       "      <th>anio</th>\n",
       "      <th>mes</th>\n",
       "      <th>dia</th>\n",
       "      <th>hora</th>\n",
       "      <th>franja_horaria</th>\n",
       "      <th>lugar</th>\n",
       "      <th>tipo_calle</th>\n",
       "      <th>calle</th>\n",
       "      <th>cruce</th>\n",
       "      <th>direccion_normalizada</th>\n",
       "      <th>comuna</th>\n",
       "      <th>punto_coordenado</th>\n",
       "      <th>longitud</th>\n",
       "      <th>latitud</th>\n",
       "      <th>participantes</th>\n",
       "      <th>victima</th>\n",
       "      <th>acusado</th>\n",
       "    </tr>\n",
       "  </thead>\n",
       "  <tbody>\n",
       "    <tr>\n",
       "      <th>119</th>\n",
       "      <td>2016-0151</td>\n",
       "      <td>1</td>\n",
       "      <td>2016-11-18</td>\n",
       "      <td>2016</td>\n",
       "      <td>11</td>\n",
       "      <td>18</td>\n",
       "      <td>20:35:00</td>\n",
       "      <td>20</td>\n",
       "      <td>SD</td>\n",
       "      <td>CALLE</td>\n",
       "      <td>NaN</td>\n",
       "      <td>No</td>\n",
       "      <td>SD</td>\n",
       "      <td>0</td>\n",
       "      <td>Point (. .)</td>\n",
       "      <td>.</td>\n",
       "      <td>.</td>\n",
       "      <td>PEATON-SD</td>\n",
       "      <td>PEATON</td>\n",
       "      <td>SD</td>\n",
       "    </tr>\n",
       "  </tbody>\n",
       "</table>\n",
       "</div>"
      ],
      "text/plain": [
       "            id  num_victimas      fecha  anio  mes  dia      hora  \\\n",
       "119  2016-0151             1 2016-11-18  2016   11   18  20:35:00   \n",
       "\n",
       "    franja_horaria lugar tipo_calle calle cruce direccion_normalizada  comuna  \\\n",
       "119             20    SD      CALLE   NaN    No                    SD       0   \n",
       "\n",
       "    punto_coordenado longitud latitud participantes victima acusado  \n",
       "119      Point (. .)        .       .     PEATON-SD  PEATON      SD  "
      ]
     },
     "execution_count": 80,
     "metadata": {},
     "output_type": "execute_result"
    }
   ],
   "source": [
    "# Observamos el registro que al parecer era float y vemos que corresponde a NaN\n",
    "valor_float = hechos[hechos[\"calle\"].apply(lambda x: isinstance(x, (int, float)))]\n",
    "valor_float"
   ]
  },
  {
   "cell_type": "code",
   "execution_count": 81,
   "metadata": {},
   "outputs": [
    {
     "data": {
      "text/plain": [
       "calle\n",
       "<class 'str'>    696\n",
       "Name: count, dtype: int64"
      ]
     },
     "execution_count": 81,
     "metadata": {},
     "output_type": "execute_result"
    }
   ],
   "source": [
    "# Cambiamos el registro vacío de la columna `calle` por el valor \"Sin dato\"\n",
    "hechos.loc[119, \"calle\"] = \"SD\"\n",
    "\n",
    "# Verificamos el cambio hecho\n",
    "hechos[\"calle\"].apply(type).value_counts()"
   ]
  },
  {
   "cell_type": "markdown",
   "metadata": {},
   "source": [
    "Ya todos los datos son del tipo string"
   ]
  },
  {
   "cell_type": "markdown",
   "metadata": {},
   "source": [
    "### Verificamos nuevamente todas la columnas"
   ]
  },
  {
   "cell_type": "code",
   "execution_count": 82,
   "metadata": {},
   "outputs": [
    {
     "data": {
      "text/html": [
       "<div>\n",
       "<style scoped>\n",
       "    .dataframe tbody tr th:only-of-type {\n",
       "        vertical-align: middle;\n",
       "    }\n",
       "\n",
       "    .dataframe tbody tr th {\n",
       "        vertical-align: top;\n",
       "    }\n",
       "\n",
       "    .dataframe thead th {\n",
       "        text-align: right;\n",
       "    }\n",
       "</style>\n",
       "<table border=\"1\" class=\"dataframe\">\n",
       "  <thead>\n",
       "    <tr style=\"text-align: right;\">\n",
       "      <th></th>\n",
       "      <th>nombre_campo</th>\n",
       "      <th>tipo_datos</th>\n",
       "      <th>no_nulos_%</th>\n",
       "      <th>nulos_%</th>\n",
       "      <th>nulos</th>\n",
       "    </tr>\n",
       "  </thead>\n",
       "  <tbody>\n",
       "    <tr>\n",
       "      <th>0</th>\n",
       "      <td>id</td>\n",
       "      <td>[&lt;class 'str'&gt;]</td>\n",
       "      <td>100.0</td>\n",
       "      <td>0.0</td>\n",
       "      <td>0</td>\n",
       "    </tr>\n",
       "    <tr>\n",
       "      <th>1</th>\n",
       "      <td>num_victimas</td>\n",
       "      <td>[&lt;class 'int'&gt;]</td>\n",
       "      <td>100.0</td>\n",
       "      <td>0.0</td>\n",
       "      <td>0</td>\n",
       "    </tr>\n",
       "    <tr>\n",
       "      <th>18</th>\n",
       "      <td>victima</td>\n",
       "      <td>[&lt;class 'str'&gt;]</td>\n",
       "      <td>100.0</td>\n",
       "      <td>0.0</td>\n",
       "      <td>0</td>\n",
       "    </tr>\n",
       "    <tr>\n",
       "      <th>17</th>\n",
       "      <td>participantes</td>\n",
       "      <td>[&lt;class 'str'&gt;]</td>\n",
       "      <td>100.0</td>\n",
       "      <td>0.0</td>\n",
       "      <td>0</td>\n",
       "    </tr>\n",
       "    <tr>\n",
       "      <th>16</th>\n",
       "      <td>latitud</td>\n",
       "      <td>[&lt;class 'str'&gt;]</td>\n",
       "      <td>100.0</td>\n",
       "      <td>0.0</td>\n",
       "      <td>0</td>\n",
       "    </tr>\n",
       "    <tr>\n",
       "      <th>15</th>\n",
       "      <td>longitud</td>\n",
       "      <td>[&lt;class 'str'&gt;]</td>\n",
       "      <td>100.0</td>\n",
       "      <td>0.0</td>\n",
       "      <td>0</td>\n",
       "    </tr>\n",
       "    <tr>\n",
       "      <th>14</th>\n",
       "      <td>punto_coordenado</td>\n",
       "      <td>[&lt;class 'str'&gt;]</td>\n",
       "      <td>100.0</td>\n",
       "      <td>0.0</td>\n",
       "      <td>0</td>\n",
       "    </tr>\n",
       "    <tr>\n",
       "      <th>13</th>\n",
       "      <td>comuna</td>\n",
       "      <td>[&lt;class 'int'&gt;]</td>\n",
       "      <td>100.0</td>\n",
       "      <td>0.0</td>\n",
       "      <td>0</td>\n",
       "    </tr>\n",
       "    <tr>\n",
       "      <th>12</th>\n",
       "      <td>direccion_normalizada</td>\n",
       "      <td>[&lt;class 'str'&gt;]</td>\n",
       "      <td>100.0</td>\n",
       "      <td>0.0</td>\n",
       "      <td>0</td>\n",
       "    </tr>\n",
       "    <tr>\n",
       "      <th>11</th>\n",
       "      <td>cruce</td>\n",
       "      <td>[&lt;class 'str'&gt;]</td>\n",
       "      <td>100.0</td>\n",
       "      <td>0.0</td>\n",
       "      <td>0</td>\n",
       "    </tr>\n",
       "    <tr>\n",
       "      <th>10</th>\n",
       "      <td>calle</td>\n",
       "      <td>[&lt;class 'str'&gt;]</td>\n",
       "      <td>100.0</td>\n",
       "      <td>0.0</td>\n",
       "      <td>0</td>\n",
       "    </tr>\n",
       "    <tr>\n",
       "      <th>9</th>\n",
       "      <td>tipo_calle</td>\n",
       "      <td>[&lt;class 'str'&gt;]</td>\n",
       "      <td>100.0</td>\n",
       "      <td>0.0</td>\n",
       "      <td>0</td>\n",
       "    </tr>\n",
       "    <tr>\n",
       "      <th>8</th>\n",
       "      <td>lugar</td>\n",
       "      <td>[&lt;class 'str'&gt;]</td>\n",
       "      <td>100.0</td>\n",
       "      <td>0.0</td>\n",
       "      <td>0</td>\n",
       "    </tr>\n",
       "    <tr>\n",
       "      <th>7</th>\n",
       "      <td>franja_horaria</td>\n",
       "      <td>[&lt;class 'int'&gt;]</td>\n",
       "      <td>100.0</td>\n",
       "      <td>0.0</td>\n",
       "      <td>0</td>\n",
       "    </tr>\n",
       "    <tr>\n",
       "      <th>6</th>\n",
       "      <td>hora</td>\n",
       "      <td>[&lt;class 'datetime.time'&gt;]</td>\n",
       "      <td>100.0</td>\n",
       "      <td>0.0</td>\n",
       "      <td>0</td>\n",
       "    </tr>\n",
       "    <tr>\n",
       "      <th>5</th>\n",
       "      <td>dia</td>\n",
       "      <td>[&lt;class 'int'&gt;]</td>\n",
       "      <td>100.0</td>\n",
       "      <td>0.0</td>\n",
       "      <td>0</td>\n",
       "    </tr>\n",
       "    <tr>\n",
       "      <th>4</th>\n",
       "      <td>mes</td>\n",
       "      <td>[&lt;class 'int'&gt;]</td>\n",
       "      <td>100.0</td>\n",
       "      <td>0.0</td>\n",
       "      <td>0</td>\n",
       "    </tr>\n",
       "    <tr>\n",
       "      <th>3</th>\n",
       "      <td>anio</td>\n",
       "      <td>[&lt;class 'int'&gt;]</td>\n",
       "      <td>100.0</td>\n",
       "      <td>0.0</td>\n",
       "      <td>0</td>\n",
       "    </tr>\n",
       "    <tr>\n",
       "      <th>2</th>\n",
       "      <td>fecha</td>\n",
       "      <td>[&lt;class 'pandas._libs.tslibs.timestamps.Timest...</td>\n",
       "      <td>100.0</td>\n",
       "      <td>0.0</td>\n",
       "      <td>0</td>\n",
       "    </tr>\n",
       "    <tr>\n",
       "      <th>19</th>\n",
       "      <td>acusado</td>\n",
       "      <td>[&lt;class 'str'&gt;]</td>\n",
       "      <td>100.0</td>\n",
       "      <td>0.0</td>\n",
       "      <td>0</td>\n",
       "    </tr>\n",
       "  </tbody>\n",
       "</table>\n",
       "</div>"
      ],
      "text/plain": [
       "             nombre_campo                                         tipo_datos  \\\n",
       "0                      id                                    [<class 'str'>]   \n",
       "1            num_victimas                                    [<class 'int'>]   \n",
       "18                victima                                    [<class 'str'>]   \n",
       "17          participantes                                    [<class 'str'>]   \n",
       "16                latitud                                    [<class 'str'>]   \n",
       "15               longitud                                    [<class 'str'>]   \n",
       "14       punto_coordenado                                    [<class 'str'>]   \n",
       "13                 comuna                                    [<class 'int'>]   \n",
       "12  direccion_normalizada                                    [<class 'str'>]   \n",
       "11                  cruce                                    [<class 'str'>]   \n",
       "10                  calle                                    [<class 'str'>]   \n",
       "9              tipo_calle                                    [<class 'str'>]   \n",
       "8                   lugar                                    [<class 'str'>]   \n",
       "7          franja_horaria                                    [<class 'int'>]   \n",
       "6                    hora                          [<class 'datetime.time'>]   \n",
       "5                     dia                                    [<class 'int'>]   \n",
       "4                     mes                                    [<class 'int'>]   \n",
       "3                    anio                                    [<class 'int'>]   \n",
       "2                   fecha  [<class 'pandas._libs.tslibs.timestamps.Timest...   \n",
       "19                acusado                                    [<class 'str'>]   \n",
       "\n",
       "    no_nulos_%  nulos_%  nulos  \n",
       "0        100.0      0.0      0  \n",
       "1        100.0      0.0      0  \n",
       "18       100.0      0.0      0  \n",
       "17       100.0      0.0      0  \n",
       "16       100.0      0.0      0  \n",
       "15       100.0      0.0      0  \n",
       "14       100.0      0.0      0  \n",
       "13       100.0      0.0      0  \n",
       "12       100.0      0.0      0  \n",
       "11       100.0      0.0      0  \n",
       "10       100.0      0.0      0  \n",
       "9        100.0      0.0      0  \n",
       "8        100.0      0.0      0  \n",
       "7        100.0      0.0      0  \n",
       "6        100.0      0.0      0  \n",
       "5        100.0      0.0      0  \n",
       "4        100.0      0.0      0  \n",
       "3        100.0      0.0      0  \n",
       "2        100.0      0.0      0  \n",
       "19       100.0      0.0      0  "
      ]
     },
     "execution_count": 82,
     "metadata": {},
     "output_type": "execute_result"
    }
   ],
   "source": [
    "utils.verificar_tipo_datos_y_nulos(hechos)"
   ]
  },
  {
   "cell_type": "markdown",
   "metadata": {},
   "source": [
    "Conclusiones:\n",
    "\n",
    "* Se normalizó los nombres de las columnas\n",
    "* Se dejó un solo tipo de data para cada columna\n",
    "* Se eliminaron o imputaron datos nulos"
   ]
  },
  {
   "cell_type": "markdown",
   "metadata": {},
   "source": [
    "## Diccionario de datos"
   ]
  },
  {
   "cell_type": "markdown",
   "metadata": {},
   "source": [
    "| Variables     | Descripción                                                                                      |\n",
    "|------------------------------|--------------------------------------------------------------------------------------------------|\n",
    "| id                           | Identificador único del siniestro                                                              |\n",
    "| num_victimas                   | Cantidad de víctimas                                                                            |\n",
    "| fecha                        | Fecha en formato dd/mm/aaaa                                                                     |\n",
    "| anio                         | Año                                                                                              |\n",
    "| mes                          | Mes                                                                                              |\n",
    "| dia                           | Día del mes                                                                                      |\n",
    "| hora                         | Hora del siniestro                                                                              |\n",
    "| franja_horaria                           | Franja horaria entera                                                                           |\n",
    "| lugar              | Dirección del hecho                                                                             |\n",
    "| tipo_calle                | Tipo de arteria. En el caso de intersecciones a nivel se clasifica según la de mayor jerarquía  |\n",
    "| calle                        | Nombre de la arteria donde se produjo el hecho                                                  |\n",
    "| Cruce                        | Cruce en caso de que sea una encrucijada                                                        |\n",
    "| direccion_normalizada        | Dirección en formato normalizado USIG                                                           |\n",
    "| comuna                       | Comuna de la ciudad (1 a 15)                                                                    |\n",
    "| punto_coordenado                    | Geocodificación plana                                                                           |\n",
    "| longitud                      | Longitud con separador punto. WGS84                                                             |\n",
    "| latitud                        | Latitud con separador punto. WGS84                                                              |\n",
    "| participantes                | Conjunción de víctima y acusado                                                                 |\n",
    "| victima                      | Vehículo que ocupaba quien haya fallecido o se haya lastimado a raíz del hecho, o bien peatón/a. Clasificación agregada del tipo de vehículos. |\n",
    "| acusado                      | Vehículo que ocupaba quien resultó acusado/a del hecho, sin implicar culpabilidad legal        |\n",
    "                                      \n"
   ]
  },
  {
   "cell_type": "markdown",
   "metadata": {},
   "source": [
    "### Revisión categorías `acusado` y `victima`"
   ]
  },
  {
   "cell_type": "markdown",
   "metadata": {},
   "source": [
    "Teniendo la siguiente información:"
   ]
  },
  {
   "cell_type": "markdown",
   "metadata": {},
   "source": [
    "| Variables      | Valores      | Descripción                                                                                                                                                                                                                                                                                                                                                                                                          |\n",
    "|----------------|--------------|----------------------------------------------------------------------------------------------------------------------------------------------------------------------------------------------------------------------------------------------------------------------------------------------------------------------------------------------------------------------------------------------------------------------|                                                                                                   \n",
    "| VICTIMA        | PEATON       | Víctima distinta de cualquier ocupante de un vehículo, ya sea un conductor/a o un pasajero/a. Se incluyen los ocupantes o personas que empujan o arrastran un coche de bebé o una silla de ruedas o cualquier otro vehículo sin motor de pequeñas dimensiones. Se incluyen también las personas que caminan empujando una bicicleta o un ciclomotor.                                      |\n",
    "|                | MOTO         | Vehículo a motor no carrozado que incluye motocicleta, ciclomotor y cuatriciclo.                                                                                                                                                                                                                                                                                                                                     |\n",
    "|                | AUTO         | Vehículo a motor destinado al transporte de personas, diferente de los motovehículos, y que tenga hasta nueve plazas (incluyendo al asiento del conductor) (Sedan, SUV, coupe, etc).                                                                                                                                                                                                                                |\n",
    "|                | CARGAS       | Vehículo a motor destinado al transporte de cargas, incluye camiones pesados (con o sin acoplado o semirremolque, etc., camión de recolección de residuos) y livianos (utilitarios, furgonetas, pick-ups, camioneta con caja de carga).                                                                                                                                                                              |\n",
    "|                | BICICLETA    | Vehículo con al menos dos ruedas, que generalmente es accionado por el esfuerzo muscular de las personas que lo ocupan, en particular mediante pedales o manivelas. Incluye bicicletas de pedaleo asistido y/o con motor.                                                                                                                                                                                          |\n",
    "|                | PASAJEROS    | Personas lesionadas que se encuentran dentro, descendiendo o ascendiendo de las unidades de autotrasporte público de pasajeros/as y ómnibus de larga distancia.                                                                                                                                                                                                                                                    |\n",
    "|                | MOVIL        | Vehículos de emergencia: móviles policiales, ambulancias, autobombas.                                                                                                                                                                                                                                                                                                                                               |\n",
    "|                | OTRO         | Otros vehículos.                                                                                                                                                                                                                                                                                                                                      |\n",
    "|                | SD           | Sin datos sobre el tipo de víctima.                                                                                                                                                                                                                                                                                                                   |\n",
    "| ACUSADO        | AUTO         | Vehículo a motor destinado al transporte de personas, diferente de los motovehículos, y que tenga hasta nueve plazas (incluyendo al asiento del conductor) (Sedan, SUV, coupe, etc).                                                                                                                                                                                                                                |\n",
    "|                | BICICLETA    | Vehículo con al menos dos ruedas, que generalmente es accionado por el esfuerzo muscular de las personas que lo ocupan, en particular mediante pedales o manivelas. Incluye bicicletas de pedaleo asistido y/o con motor.                                                                                                                                                                                          |\n",
    "|                | CARGAS       | Vehículo a motor destinado al transporte de cargas, incluye camiones pesados (con o sin acoplado o semirremolque, etc., camión de recolección de residuos) y livianos (utilitarios, furgonetas, pick-ups, camioneta con caja de carga).                                                                                                                                                                              |\n",
    "|                | MOTO         | Vehículo a motor no carrozado que incluye motocicleta, ciclomotor y cuatriciclo.                                                                                                                                                                                                                                                                                                                                     |\n",
    "|                | OBJETO FIJO  | Colisión contra objetos inmóviles fijados de manera permanente o semipermanente (columna, árbol, semáforo, etc.) o pérdidas de equilibrio de vehículos de dos ruedas que desencadenen la caída de sus ocupantes.                                                                                                                                                                                                       |\n",
    "|                | PASAJEROS    | Personas lesionadas que se encuentran dentro, descendiendo o ascendiendo de las unidades de autotrasporte público de pasajeros/as y ómnibus de larga distancia.                                                                                                                                                                                                                                                    |\n",
    "|                | TREN         | Equipo móvil que se desplaza exclusivamente sobre rieles.                                                                                                                                                                                                                                                                                              |\n",
    "|                | OTRO         | Otros vehículos.                                                                                                                                                                                                                                                                                                                                      |\n",
    "|                | SD           | Sin datos sobre el vehículo participante.                                                                                                                                                                                                                                                                                                             |\n",
    "| PARTICIPANTES  | MULTIPLE     | Cuando participan más de un vehículo como contraparte de la víctima.                                                                                                                                                                                                                                                                                   |\n"
   ]
  },
  {
   "cell_type": "markdown",
   "metadata": {},
   "source": [
    "Es necesario comparar la información de las tablas anteriores (diccionarios de datos), con los registros del dataset `homicidios` para los campos `acusado` y `victima`"
   ]
  },
  {
   "cell_type": "code",
   "execution_count": 83,
   "metadata": {},
   "outputs": [
    {
     "data": {
      "text/plain": [
       "array(['MOTO', 'AUTO', 'PEATON', 'SD', 'CARGAS', 'BICICLETA', 'PASAJEROS',\n",
       "       'MOVIL', 'OBJETO FIJO', 'PEATON_MOTO'], dtype=object)"
      ]
     },
     "execution_count": 83,
     "metadata": {},
     "output_type": "execute_result"
    }
   ],
   "source": [
    "hechos[\"victima\"].unique()"
   ]
  },
  {
   "cell_type": "markdown",
   "metadata": {},
   "source": [
    "Observación:\n",
    "\n",
    "* Se observan dos categorías en el dataset que no se encuentran el diccionario de datos para la columna `victima`: 'OBJETO FIJO', 'PEATON_MOTO'\n",
    "\n",
    "Se observan los registros:"
   ]
  },
  {
   "cell_type": "code",
   "execution_count": 84,
   "metadata": {},
   "outputs": [
    {
     "data": {
      "text/html": [
       "<div>\n",
       "<style scoped>\n",
       "    .dataframe tbody tr th:only-of-type {\n",
       "        vertical-align: middle;\n",
       "    }\n",
       "\n",
       "    .dataframe tbody tr th {\n",
       "        vertical-align: top;\n",
       "    }\n",
       "\n",
       "    .dataframe thead th {\n",
       "        text-align: right;\n",
       "    }\n",
       "</style>\n",
       "<table border=\"1\" class=\"dataframe\">\n",
       "  <thead>\n",
       "    <tr style=\"text-align: right;\">\n",
       "      <th></th>\n",
       "      <th>id</th>\n",
       "      <th>num_victimas</th>\n",
       "      <th>fecha</th>\n",
       "      <th>anio</th>\n",
       "      <th>mes</th>\n",
       "      <th>dia</th>\n",
       "      <th>hora</th>\n",
       "      <th>franja_horaria</th>\n",
       "      <th>lugar</th>\n",
       "      <th>tipo_calle</th>\n",
       "      <th>calle</th>\n",
       "      <th>cruce</th>\n",
       "      <th>direccion_normalizada</th>\n",
       "      <th>comuna</th>\n",
       "      <th>punto_coordenado</th>\n",
       "      <th>longitud</th>\n",
       "      <th>latitud</th>\n",
       "      <th>participantes</th>\n",
       "      <th>victima</th>\n",
       "      <th>acusado</th>\n",
       "    </tr>\n",
       "  </thead>\n",
       "  <tbody>\n",
       "    <tr>\n",
       "      <th>230</th>\n",
       "      <td>2017-0108</td>\n",
       "      <td>2</td>\n",
       "      <td>2017-09-02</td>\n",
       "      <td>2017</td>\n",
       "      <td>9</td>\n",
       "      <td>2</td>\n",
       "      <td>04:53:08</td>\n",
       "      <td>4</td>\n",
       "      <td>AV. GRAL. PAZ Y MACHAIN</td>\n",
       "      <td>GRAL PAZ</td>\n",
       "      <td>PAZ, GRAL. AV.</td>\n",
       "      <td>Si</td>\n",
       "      <td>PAZ, GRAL. AV. y MACHAIN</td>\n",
       "      <td>12</td>\n",
       "      <td>Point (97098.48468623 109019.96106626)</td>\n",
       "      <td>-58.49491054</td>\n",
       "      <td>-34.54795581</td>\n",
       "      <td>AUTO-OBJETO FIJO</td>\n",
       "      <td>OBJETO FIJO</td>\n",
       "      <td>AUTO</td>\n",
       "    </tr>\n",
       "    <tr>\n",
       "      <th>583</th>\n",
       "      <td>2020-0063</td>\n",
       "      <td>2</td>\n",
       "      <td>2020-12-05</td>\n",
       "      <td>2020</td>\n",
       "      <td>12</td>\n",
       "      <td>5</td>\n",
       "      <td>07:10:00</td>\n",
       "      <td>7</td>\n",
       "      <td>NUEVA YORK Y ALTA GRACIA</td>\n",
       "      <td>CALLE</td>\n",
       "      <td>NUEVA YORK</td>\n",
       "      <td>Si</td>\n",
       "      <td>NUEVA YORK y ALTA GRACIA</td>\n",
       "      <td>11</td>\n",
       "      <td>Point (94080.62190808 102083.62453795)</td>\n",
       "      <td>-58.52783814</td>\n",
       "      <td>-34.61047001</td>\n",
       "      <td>PEATON_MOTO-MOTO</td>\n",
       "      <td>PEATON_MOTO</td>\n",
       "      <td>MOTO</td>\n",
       "    </tr>\n",
       "  </tbody>\n",
       "</table>\n",
       "</div>"
      ],
      "text/plain": [
       "            id  num_victimas      fecha  anio  mes  dia      hora  \\\n",
       "230  2017-0108             2 2017-09-02  2017    9    2  04:53:08   \n",
       "583  2020-0063             2 2020-12-05  2020   12    5  07:10:00   \n",
       "\n",
       "    franja_horaria                     lugar tipo_calle           calle cruce  \\\n",
       "230              4   AV. GRAL. PAZ Y MACHAIN   GRAL PAZ  PAZ, GRAL. AV.    Si   \n",
       "583              7  NUEVA YORK Y ALTA GRACIA      CALLE      NUEVA YORK    Si   \n",
       "\n",
       "        direccion_normalizada  comuna                        punto_coordenado  \\\n",
       "230  PAZ, GRAL. AV. y MACHAIN      12  Point (97098.48468623 109019.96106626)   \n",
       "583  NUEVA YORK y ALTA GRACIA      11  Point (94080.62190808 102083.62453795)   \n",
       "\n",
       "         longitud       latitud     participantes      victima acusado  \n",
       "230  -58.49491054  -34.54795581  AUTO-OBJETO FIJO  OBJETO FIJO    AUTO  \n",
       "583  -58.52783814  -34.61047001  PEATON_MOTO-MOTO  PEATON_MOTO    MOTO  "
      ]
     },
     "execution_count": 84,
     "metadata": {},
     "output_type": "execute_result"
    }
   ],
   "source": [
    "hechos[hechos[\"victima\"].isin([\"OBJETO FIJO\", \"PEATON_MOTO\"])]"
   ]
  },
  {
   "cell_type": "markdown",
   "metadata": {},
   "source": [
    "Se observan dos registros, uno por cada término distinto al del diccionario de datos. Se decide imputar el valor 'OTRO' dado que no hay información suficiente que pueda indicar el vehículo de la victima."
   ]
  },
  {
   "cell_type": "code",
   "execution_count": 85,
   "metadata": {},
   "outputs": [
    {
     "data": {
      "text/html": [
       "<div>\n",
       "<style scoped>\n",
       "    .dataframe tbody tr th:only-of-type {\n",
       "        vertical-align: middle;\n",
       "    }\n",
       "\n",
       "    .dataframe tbody tr th {\n",
       "        vertical-align: top;\n",
       "    }\n",
       "\n",
       "    .dataframe thead th {\n",
       "        text-align: right;\n",
       "    }\n",
       "</style>\n",
       "<table border=\"1\" class=\"dataframe\">\n",
       "  <thead>\n",
       "    <tr style=\"text-align: right;\">\n",
       "      <th></th>\n",
       "      <th>id</th>\n",
       "      <th>num_victimas</th>\n",
       "      <th>fecha</th>\n",
       "      <th>anio</th>\n",
       "      <th>mes</th>\n",
       "      <th>dia</th>\n",
       "      <th>hora</th>\n",
       "      <th>franja_horaria</th>\n",
       "      <th>lugar</th>\n",
       "      <th>tipo_calle</th>\n",
       "      <th>calle</th>\n",
       "      <th>cruce</th>\n",
       "      <th>direccion_normalizada</th>\n",
       "      <th>comuna</th>\n",
       "      <th>punto_coordenado</th>\n",
       "      <th>longitud</th>\n",
       "      <th>latitud</th>\n",
       "      <th>participantes</th>\n",
       "      <th>victima</th>\n",
       "      <th>acusado</th>\n",
       "    </tr>\n",
       "  </thead>\n",
       "  <tbody>\n",
       "    <tr>\n",
       "      <th>230</th>\n",
       "      <td>2017-0108</td>\n",
       "      <td>2</td>\n",
       "      <td>2017-09-02</td>\n",
       "      <td>2017</td>\n",
       "      <td>9</td>\n",
       "      <td>2</td>\n",
       "      <td>04:53:08</td>\n",
       "      <td>4</td>\n",
       "      <td>AV. GRAL. PAZ Y MACHAIN</td>\n",
       "      <td>GRAL PAZ</td>\n",
       "      <td>PAZ, GRAL. AV.</td>\n",
       "      <td>Si</td>\n",
       "      <td>PAZ, GRAL. AV. y MACHAIN</td>\n",
       "      <td>12</td>\n",
       "      <td>Point (97098.48468623 109019.96106626)</td>\n",
       "      <td>-58.49491054</td>\n",
       "      <td>-34.54795581</td>\n",
       "      <td>AUTO-OBJETO FIJO</td>\n",
       "      <td>OTRO</td>\n",
       "      <td>AUTO</td>\n",
       "    </tr>\n",
       "    <tr>\n",
       "      <th>583</th>\n",
       "      <td>2020-0063</td>\n",
       "      <td>2</td>\n",
       "      <td>2020-12-05</td>\n",
       "      <td>2020</td>\n",
       "      <td>12</td>\n",
       "      <td>5</td>\n",
       "      <td>07:10:00</td>\n",
       "      <td>7</td>\n",
       "      <td>NUEVA YORK Y ALTA GRACIA</td>\n",
       "      <td>CALLE</td>\n",
       "      <td>NUEVA YORK</td>\n",
       "      <td>Si</td>\n",
       "      <td>NUEVA YORK y ALTA GRACIA</td>\n",
       "      <td>11</td>\n",
       "      <td>Point (94080.62190808 102083.62453795)</td>\n",
       "      <td>-58.52783814</td>\n",
       "      <td>-34.61047001</td>\n",
       "      <td>PEATON_MOTO-MOTO</td>\n",
       "      <td>OTRO</td>\n",
       "      <td>MOTO</td>\n",
       "    </tr>\n",
       "  </tbody>\n",
       "</table>\n",
       "</div>"
      ],
      "text/plain": [
       "            id  num_victimas      fecha  anio  mes  dia      hora  \\\n",
       "230  2017-0108             2 2017-09-02  2017    9    2  04:53:08   \n",
       "583  2020-0063             2 2020-12-05  2020   12    5  07:10:00   \n",
       "\n",
       "    franja_horaria                     lugar tipo_calle           calle cruce  \\\n",
       "230              4   AV. GRAL. PAZ Y MACHAIN   GRAL PAZ  PAZ, GRAL. AV.    Si   \n",
       "583              7  NUEVA YORK Y ALTA GRACIA      CALLE      NUEVA YORK    Si   \n",
       "\n",
       "        direccion_normalizada  comuna                        punto_coordenado  \\\n",
       "230  PAZ, GRAL. AV. y MACHAIN      12  Point (97098.48468623 109019.96106626)   \n",
       "583  NUEVA YORK y ALTA GRACIA      11  Point (94080.62190808 102083.62453795)   \n",
       "\n",
       "         longitud       latitud     participantes victima acusado  \n",
       "230  -58.49491054  -34.54795581  AUTO-OBJETO FIJO    OTRO    AUTO  \n",
       "583  -58.52783814  -34.61047001  PEATON_MOTO-MOTO    OTRO    MOTO  "
      ]
     },
     "execution_count": 85,
     "metadata": {},
     "output_type": "execute_result"
    }
   ],
   "source": [
    "# Se cambia por el valor 'OTRO'\n",
    "hechos[\"victima\"] = hechos[\"victima\"].replace(\n",
    "    {\"OBJETO FIJO\": \"OTRO\", \"PEATON_MOTO\": \"OTRO\"}\n",
    ")\n",
    "\n",
    "# Se verifican los registros\n",
    "hechos[hechos[\"id\"].isin([\"2017-0108\", \"2020-0063\"])]"
   ]
  },
  {
   "cell_type": "markdown",
   "metadata": {},
   "source": [
    "### Variables Geográficas"
   ]
  }
 ],
 "metadata": {
  "kernelspec": {
   "display_name": "Python 3",
   "language": "python",
   "name": "python3"
  },
  "language_info": {
   "codemirror_mode": {
    "name": "ipython",
    "version": 3
   },
   "file_extension": ".py",
   "mimetype": "text/x-python",
   "name": "python",
   "nbconvert_exporter": "python",
   "pygments_lexer": "ipython3",
   "version": "3.12.1"
  }
 },
 "nbformat": 4,
 "nbformat_minor": 2
}
